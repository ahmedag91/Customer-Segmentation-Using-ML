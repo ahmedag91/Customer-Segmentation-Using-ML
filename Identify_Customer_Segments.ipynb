{
 "cells": [
  {
   "cell_type": "markdown",
   "metadata": {},
   "source": [
    "# Project: Identify Customer Segments\n",
    "\n",
    "In this project, you will apply unsupervised learning techniques to identify segments of the population that form the core customer base for a mail-order sales company in Germany. These segments can then be used to direct marketing campaigns towards audiences that will have the highest expected rate of returns. The data that you will use has been provided by our partners at Bertelsmann Arvato Analytics, and represents a real-life data science task.\n",
    "\n",
    "This notebook will help you complete this task by providing a framework within which you will perform your analysis steps. In each step of the project, you will see some text describing the subtask that you will perform, followed by one or more code cells for you to complete your work. **Feel free to add additional code and markdown cells as you go along so that you can explore everything in precise chunks.** The code cells provided in the base template will outline only the major tasks, and will usually not be enough to cover all of the minor tasks that comprise it.\n",
    "\n",
    "It should be noted that while there will be precise guidelines on how you should handle certain tasks in the project, there will also be places where an exact specification is not provided. **There will be times in the project where you will need to make and justify your own decisions on how to treat the data.** These are places where there may not be only one way to handle the data. In real-life tasks, there may be many valid ways to approach an analysis task. One of the most important things you can do is clearly document your approach so that other scientists can understand the decisions you've made.\n",
    "\n",
    "At the end of most sections, there will be a Markdown cell labeled **Discussion**. In these cells, you will report your findings for the completed section, as well as document the decisions that you made in your approach to each subtask. **Your project will be evaluated not just on the code used to complete the tasks outlined, but also your communication about your observations and conclusions at each stage.**"
   ]
  },
  {
   "cell_type": "code",
   "execution_count": 54,
   "metadata": {},
   "outputs": [
    {
     "output_type": "execute_result",
     "data": {
      "text/plain": [
       "'\\nImport note: The classroom currently uses sklearn version 0.19.\\nIf you need to use an imputer, it is available in sklearn.preprocessing.Imputer,\\ninstead of sklearn.impute as in newer versions of sklearn.\\n'"
      ]
     },
     "metadata": {},
     "execution_count": 54
    }
   ],
   "source": [
    "# import libraries here; add more as necessary\n",
    "import numpy as np\n",
    "import pandas as pd\n",
    "import matplotlib.pyplot as plt\n",
    "import seaborn as sns\n",
    "pd.set_option(\"display.max_rows\", 85, \"display.max_columns\", 85)\n",
    "# magic word for producing visualizations in notebook\n",
    "%matplotlib inline\n",
    "\n",
    "'''\n",
    "Import note: The classroom currently uses sklearn version 0.19.\n",
    "If you need to use an imputer, it is available in sklearn.preprocessing.Imputer,\n",
    "instead of sklearn.impute as in newer versions of sklearn.\n",
    "'''"
   ]
  },
  {
   "cell_type": "markdown",
   "metadata": {},
   "source": [
    "### Step 0: Load the Data\n",
    "\n",
    "There are four files associated with this project (not including this one):\n",
    "\n",
    "- `AZDIAS_Subset.csv`: Demographics data for the general population of Germany; 891211 persons (rows) x 85 features (columns).\n",
    "- `CUSTOMERS_Subset.csv`: Demographics data for customers of a mail-order company; 191652 persons (rows) x 85 features (columns).\n",
    "- `README.md`: Detailed information file about the features in the provided datasets.\n",
    "- `AZDIAS_Feature_Summary.csv`: Summary of feature attributes for demographics data; 85 features (rows) x 4 columns\n",
    "\n",
    "Each row of the demographics files represents a single person, but also includes information outside of individuals, including information about their household, building, and neighborhood. You will use this information to cluster the general population into groups with similar demographic properties. Then, you will see how the people in the customers dataset fit into those created clusters. The hope here is that certain clusters are over-represented in the customers data, as compared to the general population; those over-represented clusters will be assumed to be part of the core userbase. This information can then be used for further applications, such as targeting for a marketing campaign.\n",
    "\n",
    "To start off with, load in the demographics data for the general population into a pandas DataFrame, and do the same for the feature attributes summary. Note for all of the `.csv` data files in this project: they're semicolon (`;`) delimited, so you'll need an additional argument in your [`read_csv()`](https://pandas.pydata.org/pandas-docs/stable/generated/pandas.read_csv.html) call to read in the data properly. Also, considering the size of the main dataset, it may take some time for it to load completely.\n",
    "\n",
    "Once the dataset is loaded, it's recommended that you take a little bit of time just browsing the general structure of the dataset and feature summary file. You'll be getting deep into the innards of the cleaning in the first major step of the project, so gaining some general familiarity can help you get your bearings."
   ]
  },
  {
   "cell_type": "code",
   "execution_count": 55,
   "metadata": {},
   "outputs": [],
   "source": [
    "# Load in the general demographics data.\n",
    "azdias = pd.read_csv('Udacity_AZDIAS_Subset.csv', sep=';')\n",
    "\n",
    "# Load in the feature summary file.\n",
    "feat_info = pd.read_csv('AZDIAS_Feature_Summary.csv', sep=';')#, dtype={'missing_or_unknown':list})"
   ]
  },
  {
   "cell_type": "code",
   "execution_count": 56,
   "metadata": {},
   "outputs": [
    {
     "output_type": "stream",
     "name": "stdout",
     "text": [
      "AGER_TYP                   int64\nALTERSKATEGORIE_GROB       int64\nANREDE_KZ                  int64\nCJT_GESAMTTYP            float64\nFINANZ_MINIMALIST          int64\nFINANZ_SPARER              int64\nFINANZ_VORSORGER           int64\nFINANZ_ANLEGER             int64\nFINANZ_UNAUFFAELLIGER      int64\nFINANZ_HAUSBAUER           int64\nFINANZTYP                  int64\nGEBURTSJAHR                int64\nGFK_URLAUBERTYP          float64\nGREEN_AVANTGARDE           int64\nHEALTH_TYP                 int64\nLP_LEBENSPHASE_FEIN      float64\nLP_LEBENSPHASE_GROB      float64\nLP_FAMILIE_FEIN          float64\nLP_FAMILIE_GROB          float64\nLP_STATUS_FEIN           float64\nLP_STATUS_GROB           float64\nNATIONALITAET_KZ           int64\nPRAEGENDE_JUGENDJAHRE      int64\nRETOURTYP_BK_S           float64\nSEMIO_SOZ                  int64\nSEMIO_FAM                  int64\nSEMIO_REL                  int64\nSEMIO_MAT                  int64\nSEMIO_VERT                 int64\nSEMIO_LUST                 int64\nSEMIO_ERL                  int64\nSEMIO_KULT                 int64\nSEMIO_RAT                  int64\nSEMIO_KRIT                 int64\nSEMIO_DOM                  int64\nSEMIO_KAEM                 int64\nSEMIO_PFLICHT              int64\nSEMIO_TRADV                int64\nSHOPPER_TYP                int64\nSOHO_KZ                  float64\nTITEL_KZ                 float64\nVERS_TYP                   int64\nZABEOTYP                   int64\nALTER_HH                 float64\nANZ_PERSONEN             float64\nANZ_TITEL                float64\nHH_EINKOMMEN_SCORE       float64\nKK_KUNDENTYP             float64\nW_KEIT_KIND_HH           float64\nWOHNDAUER_2008           float64\nANZ_HAUSHALTE_AKTIV      float64\nANZ_HH_TITEL             float64\nGEBAEUDETYP              float64\nKONSUMNAEHE              float64\nMIN_GEBAEUDEJAHR         float64\nOST_WEST_KZ               object\nWOHNLAGE                 float64\nCAMEO_DEUG_2015           object\nCAMEO_DEU_2015            object\nCAMEO_INTL_2015           object\nKBA05_ANTG1              float64\nKBA05_ANTG2              float64\nKBA05_ANTG3              float64\nKBA05_ANTG4              float64\nKBA05_BAUMAX             float64\nKBA05_GBZ                float64\nBALLRAUM                 float64\nEWDICHTE                 float64\nINNENSTADT               float64\nGEBAEUDETYP_RASTER       float64\nKKK                      float64\nMOBI_REGIO               float64\nONLINE_AFFINITAET        float64\nREGIOTYP                 float64\nKBA13_ANZAHL_PKW         float64\nPLZ8_ANTG1               float64\nPLZ8_ANTG2               float64\nPLZ8_ANTG3               float64\nPLZ8_ANTG4               float64\nPLZ8_BAUMAX              float64\nPLZ8_HHZ                 float64\nPLZ8_GBZ                 float64\nARBEIT                   float64\nORTSGR_KLS9              float64\nRELAT_AB                 float64\ndtype: object\n"
     ]
    }
   ],
   "source": [
    "print(azdias.dtypes)"
   ]
  },
  {
   "cell_type": "code",
   "execution_count": 57,
   "metadata": {},
   "outputs": [
    {
     "output_type": "display_data",
     "data": {
      "text/plain": "   AGER_TYP  ALTERSKATEGORIE_GROB  ANREDE_KZ  CJT_GESAMTTYP  \\\n0        -1                     2          1            2.0   \n1        -1                     1          2            5.0   \n2        -1                     3          2            3.0   \n3         2                     4          2            2.0   \n4        -1                     3          1            5.0   \n\n   FINANZ_MINIMALIST  FINANZ_SPARER  FINANZ_VORSORGER  FINANZ_ANLEGER  \\\n0                  3              4                 3               5   \n1                  1              5                 2               5   \n2                  1              4                 1               2   \n3                  4              2                 5               2   \n4                  4              3                 4               1   \n\n   FINANZ_UNAUFFAELLIGER  FINANZ_HAUSBAUER  FINANZTYP  GEBURTSJAHR  \\\n0                      5                 3          4            0   \n1                      4                 5          1         1996   \n2                      3                 5          1         1979   \n3                      1                 2          6         1957   \n4                      3                 2          5         1963   \n\n   GFK_URLAUBERTYP  GREEN_AVANTGARDE  HEALTH_TYP  LP_LEBENSPHASE_FEIN  \\\n0             10.0                 0          -1                 15.0   \n1             10.0                 0           3                 21.0   \n2             10.0                 1           3                  3.0   \n3              1.0                 0           2                  0.0   \n4              5.0                 0           3                 32.0   \n\n   LP_LEBENSPHASE_GROB  LP_FAMILIE_FEIN  LP_FAMILIE_GROB  LP_STATUS_FEIN  \\\n0                  4.0              2.0              2.0             1.0   \n1                  6.0              5.0              3.0             2.0   \n2                  1.0              1.0              1.0             3.0   \n3                  0.0              0.0              0.0             9.0   \n4                 10.0             10.0              5.0             3.0   \n\n   LP_STATUS_GROB  NATIONALITAET_KZ  PRAEGENDE_JUGENDJAHRE  RETOURTYP_BK_S  \\\n0             1.0                 0                      0             5.0   \n1             1.0                 1                     14             1.0   \n2             2.0                 1                     15             3.0   \n3             4.0                 1                      8             2.0   \n4             2.0                 1                      8             5.0   \n\n   SEMIO_SOZ  SEMIO_FAM  SEMIO_REL  SEMIO_MAT  SEMIO_VERT  SEMIO_LUST  \\\n0          2          6          7          5           1           5   \n1          5          4          4          3           1           2   \n2          4          1          3          3           4           4   \n3          5          1          2          1           4           4   \n4          6          4          4          2           7           4   \n\n   SEMIO_ERL  SEMIO_KULT  SEMIO_RAT  SEMIO_KRIT  SEMIO_DOM  SEMIO_KAEM  \\\n0          3           3          4           7          6           6   \n1          2           3          6           4          7           4   \n2          6           3          4           7          7           7   \n3          7           4          3           4          4           5   \n4          4           6          2           3          2           2   \n\n   SEMIO_PFLICHT  SEMIO_TRADV  SHOPPER_TYP  SOHO_KZ  TITEL_KZ  VERS_TYP  \\\n0              5            3           -1      NaN       NaN        -1   \n1              7            6            3      1.0       0.0         2   \n2              3            3            2      0.0       0.0         1   \n3              4            4            1      0.0       0.0         1   \n4              4            2            2      0.0       0.0         2   \n\n   ZABEOTYP  ALTER_HH  ANZ_PERSONEN  ANZ_TITEL  HH_EINKOMMEN_SCORE  \\\n0         3       NaN           NaN        NaN                 2.0   \n1         5       0.0           2.0        0.0                 6.0   \n2         5      17.0           1.0        0.0                 4.0   \n3         3      13.0           0.0        0.0                 1.0   \n4         4      20.0           4.0        0.0                 5.0   \n\n   KK_KUNDENTYP  W_KEIT_KIND_HH  WOHNDAUER_2008  ANZ_HAUSHALTE_AKTIV  \\\n0           NaN             NaN             NaN                  NaN   \n1           NaN             3.0             9.0                 11.0   \n2           NaN             3.0             9.0                 10.0   \n3           NaN             NaN             9.0                  1.0   \n4           1.0             2.0             9.0                  3.0   \n\n   ANZ_HH_TITEL  GEBAEUDETYP  KONSUMNAEHE  MIN_GEBAEUDEJAHR OST_WEST_KZ  \\\n0           NaN          NaN          NaN               NaN         NaN   \n1           0.0          8.0          1.0            1992.0           W   \n2           0.0          1.0          5.0            1992.0           W   \n3           0.0          1.0          4.0            1997.0           W   \n4           0.0          1.0          4.0            1992.0           W   \n\n   WOHNLAGE CAMEO_DEUG_2015 CAMEO_DEU_2015 CAMEO_INTL_2015  KBA05_ANTG1  \\\n0       NaN             NaN            NaN             NaN          NaN   \n1       4.0               8             8A              51          0.0   \n2       2.0               4             4C              24          1.0   \n3       7.0               2             2A              12          4.0   \n4       3.0               6             6B              43          1.0   \n\n   KBA05_ANTG2  KBA05_ANTG3  KBA05_ANTG4  KBA05_BAUMAX  KBA05_GBZ  BALLRAUM  \\\n0          NaN          NaN          NaN           NaN        NaN       NaN   \n1          0.0          0.0          2.0           5.0        1.0       6.0   \n2          3.0          1.0          0.0           0.0        3.0       2.0   \n3          1.0          0.0          0.0           1.0        4.0       4.0   \n4          4.0          1.0          0.0           0.0        3.0       2.0   \n\n   EWDICHTE  INNENSTADT  GEBAEUDETYP_RASTER  KKK  MOBI_REGIO  \\\n0       NaN         NaN                 NaN  NaN         NaN   \n1       3.0         8.0                 3.0  2.0         1.0   \n2       4.0         4.0                 4.0  2.0         3.0   \n3       2.0         6.0                 4.0  0.0         4.0   \n4       5.0         1.0                 5.0  3.0         3.0   \n\n   ONLINE_AFFINITAET  REGIOTYP  KBA13_ANZAHL_PKW  PLZ8_ANTG1  PLZ8_ANTG2  \\\n0                1.0       NaN               NaN         NaN         NaN   \n1                3.0       3.0             963.0         2.0         3.0   \n2                2.0       2.0             712.0         3.0         3.0   \n3                1.0       0.0             596.0         2.0         2.0   \n4                5.0       5.0             435.0         2.0         4.0   \n\n   PLZ8_ANTG3  PLZ8_ANTG4  PLZ8_BAUMAX  PLZ8_HHZ  PLZ8_GBZ  ARBEIT  \\\n0         NaN         NaN          NaN       NaN       NaN     NaN   \n1         2.0         1.0          1.0       5.0       4.0     3.0   \n2         1.0         0.0          1.0       4.0       4.0     3.0   \n3         2.0         0.0          1.0       3.0       4.0     2.0   \n4         2.0         1.0          2.0       3.0       3.0     4.0   \n\n   ORTSGR_KLS9  RELAT_AB  \n0          NaN       NaN  \n1          5.0       4.0  \n2          5.0       2.0  \n3          3.0       3.0  \n4          6.0       5.0  ",
      "text/html": "<div>\n<style scoped>\n    .dataframe tbody tr th:only-of-type {\n        vertical-align: middle;\n    }\n\n    .dataframe tbody tr th {\n        vertical-align: top;\n    }\n\n    .dataframe thead th {\n        text-align: right;\n    }\n</style>\n<table border=\"1\" class=\"dataframe\">\n  <thead>\n    <tr style=\"text-align: right;\">\n      <th></th>\n      <th>AGER_TYP</th>\n      <th>ALTERSKATEGORIE_GROB</th>\n      <th>ANREDE_KZ</th>\n      <th>CJT_GESAMTTYP</th>\n      <th>FINANZ_MINIMALIST</th>\n      <th>FINANZ_SPARER</th>\n      <th>FINANZ_VORSORGER</th>\n      <th>FINANZ_ANLEGER</th>\n      <th>FINANZ_UNAUFFAELLIGER</th>\n      <th>FINANZ_HAUSBAUER</th>\n      <th>FINANZTYP</th>\n      <th>GEBURTSJAHR</th>\n      <th>GFK_URLAUBERTYP</th>\n      <th>GREEN_AVANTGARDE</th>\n      <th>HEALTH_TYP</th>\n      <th>LP_LEBENSPHASE_FEIN</th>\n      <th>LP_LEBENSPHASE_GROB</th>\n      <th>LP_FAMILIE_FEIN</th>\n      <th>LP_FAMILIE_GROB</th>\n      <th>LP_STATUS_FEIN</th>\n      <th>LP_STATUS_GROB</th>\n      <th>NATIONALITAET_KZ</th>\n      <th>PRAEGENDE_JUGENDJAHRE</th>\n      <th>RETOURTYP_BK_S</th>\n      <th>SEMIO_SOZ</th>\n      <th>SEMIO_FAM</th>\n      <th>SEMIO_REL</th>\n      <th>SEMIO_MAT</th>\n      <th>SEMIO_VERT</th>\n      <th>SEMIO_LUST</th>\n      <th>SEMIO_ERL</th>\n      <th>SEMIO_KULT</th>\n      <th>SEMIO_RAT</th>\n      <th>SEMIO_KRIT</th>\n      <th>SEMIO_DOM</th>\n      <th>SEMIO_KAEM</th>\n      <th>SEMIO_PFLICHT</th>\n      <th>SEMIO_TRADV</th>\n      <th>SHOPPER_TYP</th>\n      <th>SOHO_KZ</th>\n      <th>TITEL_KZ</th>\n      <th>VERS_TYP</th>\n      <th>ZABEOTYP</th>\n      <th>ALTER_HH</th>\n      <th>ANZ_PERSONEN</th>\n      <th>ANZ_TITEL</th>\n      <th>HH_EINKOMMEN_SCORE</th>\n      <th>KK_KUNDENTYP</th>\n      <th>W_KEIT_KIND_HH</th>\n      <th>WOHNDAUER_2008</th>\n      <th>ANZ_HAUSHALTE_AKTIV</th>\n      <th>ANZ_HH_TITEL</th>\n      <th>GEBAEUDETYP</th>\n      <th>KONSUMNAEHE</th>\n      <th>MIN_GEBAEUDEJAHR</th>\n      <th>OST_WEST_KZ</th>\n      <th>WOHNLAGE</th>\n      <th>CAMEO_DEUG_2015</th>\n      <th>CAMEO_DEU_2015</th>\n      <th>CAMEO_INTL_2015</th>\n      <th>KBA05_ANTG1</th>\n      <th>KBA05_ANTG2</th>\n      <th>KBA05_ANTG3</th>\n      <th>KBA05_ANTG4</th>\n      <th>KBA05_BAUMAX</th>\n      <th>KBA05_GBZ</th>\n      <th>BALLRAUM</th>\n      <th>EWDICHTE</th>\n      <th>INNENSTADT</th>\n      <th>GEBAEUDETYP_RASTER</th>\n      <th>KKK</th>\n      <th>MOBI_REGIO</th>\n      <th>ONLINE_AFFINITAET</th>\n      <th>REGIOTYP</th>\n      <th>KBA13_ANZAHL_PKW</th>\n      <th>PLZ8_ANTG1</th>\n      <th>PLZ8_ANTG2</th>\n      <th>PLZ8_ANTG3</th>\n      <th>PLZ8_ANTG4</th>\n      <th>PLZ8_BAUMAX</th>\n      <th>PLZ8_HHZ</th>\n      <th>PLZ8_GBZ</th>\n      <th>ARBEIT</th>\n      <th>ORTSGR_KLS9</th>\n      <th>RELAT_AB</th>\n    </tr>\n  </thead>\n  <tbody>\n    <tr>\n      <th>0</th>\n      <td>-1</td>\n      <td>2</td>\n      <td>1</td>\n      <td>2.0</td>\n      <td>3</td>\n      <td>4</td>\n      <td>3</td>\n      <td>5</td>\n      <td>5</td>\n      <td>3</td>\n      <td>4</td>\n      <td>0</td>\n      <td>10.0</td>\n      <td>0</td>\n      <td>-1</td>\n      <td>15.0</td>\n      <td>4.0</td>\n      <td>2.0</td>\n      <td>2.0</td>\n      <td>1.0</td>\n      <td>1.0</td>\n      <td>0</td>\n      <td>0</td>\n      <td>5.0</td>\n      <td>2</td>\n      <td>6</td>\n      <td>7</td>\n      <td>5</td>\n      <td>1</td>\n      <td>5</td>\n      <td>3</td>\n      <td>3</td>\n      <td>4</td>\n      <td>7</td>\n      <td>6</td>\n      <td>6</td>\n      <td>5</td>\n      <td>3</td>\n      <td>-1</td>\n      <td>NaN</td>\n      <td>NaN</td>\n      <td>-1</td>\n      <td>3</td>\n      <td>NaN</td>\n      <td>NaN</td>\n      <td>NaN</td>\n      <td>2.0</td>\n      <td>NaN</td>\n      <td>NaN</td>\n      <td>NaN</td>\n      <td>NaN</td>\n      <td>NaN</td>\n      <td>NaN</td>\n      <td>NaN</td>\n      <td>NaN</td>\n      <td>NaN</td>\n      <td>NaN</td>\n      <td>NaN</td>\n      <td>NaN</td>\n      <td>NaN</td>\n      <td>NaN</td>\n      <td>NaN</td>\n      <td>NaN</td>\n      <td>NaN</td>\n      <td>NaN</td>\n      <td>NaN</td>\n      <td>NaN</td>\n      <td>NaN</td>\n      <td>NaN</td>\n      <td>NaN</td>\n      <td>NaN</td>\n      <td>NaN</td>\n      <td>1.0</td>\n      <td>NaN</td>\n      <td>NaN</td>\n      <td>NaN</td>\n      <td>NaN</td>\n      <td>NaN</td>\n      <td>NaN</td>\n      <td>NaN</td>\n      <td>NaN</td>\n      <td>NaN</td>\n      <td>NaN</td>\n      <td>NaN</td>\n      <td>NaN</td>\n    </tr>\n    <tr>\n      <th>1</th>\n      <td>-1</td>\n      <td>1</td>\n      <td>2</td>\n      <td>5.0</td>\n      <td>1</td>\n      <td>5</td>\n      <td>2</td>\n      <td>5</td>\n      <td>4</td>\n      <td>5</td>\n      <td>1</td>\n      <td>1996</td>\n      <td>10.0</td>\n      <td>0</td>\n      <td>3</td>\n      <td>21.0</td>\n      <td>6.0</td>\n      <td>5.0</td>\n      <td>3.0</td>\n      <td>2.0</td>\n      <td>1.0</td>\n      <td>1</td>\n      <td>14</td>\n      <td>1.0</td>\n      <td>5</td>\n      <td>4</td>\n      <td>4</td>\n      <td>3</td>\n      <td>1</td>\n      <td>2</td>\n      <td>2</td>\n      <td>3</td>\n      <td>6</td>\n      <td>4</td>\n      <td>7</td>\n      <td>4</td>\n      <td>7</td>\n      <td>6</td>\n      <td>3</td>\n      <td>1.0</td>\n      <td>0.0</td>\n      <td>2</td>\n      <td>5</td>\n      <td>0.0</td>\n      <td>2.0</td>\n      <td>0.0</td>\n      <td>6.0</td>\n      <td>NaN</td>\n      <td>3.0</td>\n      <td>9.0</td>\n      <td>11.0</td>\n      <td>0.0</td>\n      <td>8.0</td>\n      <td>1.0</td>\n      <td>1992.0</td>\n      <td>W</td>\n      <td>4.0</td>\n      <td>8</td>\n      <td>8A</td>\n      <td>51</td>\n      <td>0.0</td>\n      <td>0.0</td>\n      <td>0.0</td>\n      <td>2.0</td>\n      <td>5.0</td>\n      <td>1.0</td>\n      <td>6.0</td>\n      <td>3.0</td>\n      <td>8.0</td>\n      <td>3.0</td>\n      <td>2.0</td>\n      <td>1.0</td>\n      <td>3.0</td>\n      <td>3.0</td>\n      <td>963.0</td>\n      <td>2.0</td>\n      <td>3.0</td>\n      <td>2.0</td>\n      <td>1.0</td>\n      <td>1.0</td>\n      <td>5.0</td>\n      <td>4.0</td>\n      <td>3.0</td>\n      <td>5.0</td>\n      <td>4.0</td>\n    </tr>\n    <tr>\n      <th>2</th>\n      <td>-1</td>\n      <td>3</td>\n      <td>2</td>\n      <td>3.0</td>\n      <td>1</td>\n      <td>4</td>\n      <td>1</td>\n      <td>2</td>\n      <td>3</td>\n      <td>5</td>\n      <td>1</td>\n      <td>1979</td>\n      <td>10.0</td>\n      <td>1</td>\n      <td>3</td>\n      <td>3.0</td>\n      <td>1.0</td>\n      <td>1.0</td>\n      <td>1.0</td>\n      <td>3.0</td>\n      <td>2.0</td>\n      <td>1</td>\n      <td>15</td>\n      <td>3.0</td>\n      <td>4</td>\n      <td>1</td>\n      <td>3</td>\n      <td>3</td>\n      <td>4</td>\n      <td>4</td>\n      <td>6</td>\n      <td>3</td>\n      <td>4</td>\n      <td>7</td>\n      <td>7</td>\n      <td>7</td>\n      <td>3</td>\n      <td>3</td>\n      <td>2</td>\n      <td>0.0</td>\n      <td>0.0</td>\n      <td>1</td>\n      <td>5</td>\n      <td>17.0</td>\n      <td>1.0</td>\n      <td>0.0</td>\n      <td>4.0</td>\n      <td>NaN</td>\n      <td>3.0</td>\n      <td>9.0</td>\n      <td>10.0</td>\n      <td>0.0</td>\n      <td>1.0</td>\n      <td>5.0</td>\n      <td>1992.0</td>\n      <td>W</td>\n      <td>2.0</td>\n      <td>4</td>\n      <td>4C</td>\n      <td>24</td>\n      <td>1.0</td>\n      <td>3.0</td>\n      <td>1.0</td>\n      <td>0.0</td>\n      <td>0.0</td>\n      <td>3.0</td>\n      <td>2.0</td>\n      <td>4.0</td>\n      <td>4.0</td>\n      <td>4.0</td>\n      <td>2.0</td>\n      <td>3.0</td>\n      <td>2.0</td>\n      <td>2.0</td>\n      <td>712.0</td>\n      <td>3.0</td>\n      <td>3.0</td>\n      <td>1.0</td>\n      <td>0.0</td>\n      <td>1.0</td>\n      <td>4.0</td>\n      <td>4.0</td>\n      <td>3.0</td>\n      <td>5.0</td>\n      <td>2.0</td>\n    </tr>\n    <tr>\n      <th>3</th>\n      <td>2</td>\n      <td>4</td>\n      <td>2</td>\n      <td>2.0</td>\n      <td>4</td>\n      <td>2</td>\n      <td>5</td>\n      <td>2</td>\n      <td>1</td>\n      <td>2</td>\n      <td>6</td>\n      <td>1957</td>\n      <td>1.0</td>\n      <td>0</td>\n      <td>2</td>\n      <td>0.0</td>\n      <td>0.0</td>\n      <td>0.0</td>\n      <td>0.0</td>\n      <td>9.0</td>\n      <td>4.0</td>\n      <td>1</td>\n      <td>8</td>\n      <td>2.0</td>\n      <td>5</td>\n      <td>1</td>\n      <td>2</td>\n      <td>1</td>\n      <td>4</td>\n      <td>4</td>\n      <td>7</td>\n      <td>4</td>\n      <td>3</td>\n      <td>4</td>\n      <td>4</td>\n      <td>5</td>\n      <td>4</td>\n      <td>4</td>\n      <td>1</td>\n      <td>0.0</td>\n      <td>0.0</td>\n      <td>1</td>\n      <td>3</td>\n      <td>13.0</td>\n      <td>0.0</td>\n      <td>0.0</td>\n      <td>1.0</td>\n      <td>NaN</td>\n      <td>NaN</td>\n      <td>9.0</td>\n      <td>1.0</td>\n      <td>0.0</td>\n      <td>1.0</td>\n      <td>4.0</td>\n      <td>1997.0</td>\n      <td>W</td>\n      <td>7.0</td>\n      <td>2</td>\n      <td>2A</td>\n      <td>12</td>\n      <td>4.0</td>\n      <td>1.0</td>\n      <td>0.0</td>\n      <td>0.0</td>\n      <td>1.0</td>\n      <td>4.0</td>\n      <td>4.0</td>\n      <td>2.0</td>\n      <td>6.0</td>\n      <td>4.0</td>\n      <td>0.0</td>\n      <td>4.0</td>\n      <td>1.0</td>\n      <td>0.0</td>\n      <td>596.0</td>\n      <td>2.0</td>\n      <td>2.0</td>\n      <td>2.0</td>\n      <td>0.0</td>\n      <td>1.0</td>\n      <td>3.0</td>\n      <td>4.0</td>\n      <td>2.0</td>\n      <td>3.0</td>\n      <td>3.0</td>\n    </tr>\n    <tr>\n      <th>4</th>\n      <td>-1</td>\n      <td>3</td>\n      <td>1</td>\n      <td>5.0</td>\n      <td>4</td>\n      <td>3</td>\n      <td>4</td>\n      <td>1</td>\n      <td>3</td>\n      <td>2</td>\n      <td>5</td>\n      <td>1963</td>\n      <td>5.0</td>\n      <td>0</td>\n      <td>3</td>\n      <td>32.0</td>\n      <td>10.0</td>\n      <td>10.0</td>\n      <td>5.0</td>\n      <td>3.0</td>\n      <td>2.0</td>\n      <td>1</td>\n      <td>8</td>\n      <td>5.0</td>\n      <td>6</td>\n      <td>4</td>\n      <td>4</td>\n      <td>2</td>\n      <td>7</td>\n      <td>4</td>\n      <td>4</td>\n      <td>6</td>\n      <td>2</td>\n      <td>3</td>\n      <td>2</td>\n      <td>2</td>\n      <td>4</td>\n      <td>2</td>\n      <td>2</td>\n      <td>0.0</td>\n      <td>0.0</td>\n      <td>2</td>\n      <td>4</td>\n      <td>20.0</td>\n      <td>4.0</td>\n      <td>0.0</td>\n      <td>5.0</td>\n      <td>1.0</td>\n      <td>2.0</td>\n      <td>9.0</td>\n      <td>3.0</td>\n      <td>0.0</td>\n      <td>1.0</td>\n      <td>4.0</td>\n      <td>1992.0</td>\n      <td>W</td>\n      <td>3.0</td>\n      <td>6</td>\n      <td>6B</td>\n      <td>43</td>\n      <td>1.0</td>\n      <td>4.0</td>\n      <td>1.0</td>\n      <td>0.0</td>\n      <td>0.0</td>\n      <td>3.0</td>\n      <td>2.0</td>\n      <td>5.0</td>\n      <td>1.0</td>\n      <td>5.0</td>\n      <td>3.0</td>\n      <td>3.0</td>\n      <td>5.0</td>\n      <td>5.0</td>\n      <td>435.0</td>\n      <td>2.0</td>\n      <td>4.0</td>\n      <td>2.0</td>\n      <td>1.0</td>\n      <td>2.0</td>\n      <td>3.0</td>\n      <td>3.0</td>\n      <td>4.0</td>\n      <td>6.0</td>\n      <td>5.0</td>\n    </tr>\n  </tbody>\n</table>\n</div>"
     },
     "metadata": {}
    }
   ],
   "source": [
    "# Check the structure of the data after it's loaded (e.g. print the number of\n",
    "# rows and columns, print the first few rows).\n",
    "display(azdias.head(5))\n"
   ]
  },
  {
   "cell_type": "code",
   "execution_count": 58,
   "metadata": {},
   "outputs": [
    {
     "output_type": "display_data",
     "data": {
      "text/plain": "                attribute information_level         type missing_or_unknown\n0                AGER_TYP            person  categorical             [-1,0]\n1    ALTERSKATEGORIE_GROB            person      ordinal           [-1,0,9]\n2               ANREDE_KZ            person  categorical             [-1,0]\n3           CJT_GESAMTTYP            person  categorical                [0]\n4       FINANZ_MINIMALIST            person      ordinal               [-1]\n5           FINANZ_SPARER            person      ordinal               [-1]\n6        FINANZ_VORSORGER            person      ordinal               [-1]\n7          FINANZ_ANLEGER            person      ordinal               [-1]\n8   FINANZ_UNAUFFAELLIGER            person      ordinal               [-1]\n9        FINANZ_HAUSBAUER            person      ordinal               [-1]\n10              FINANZTYP            person  categorical               [-1]\n11            GEBURTSJAHR            person      numeric                [0]\n12        GFK_URLAUBERTYP            person  categorical                 []\n13       GREEN_AVANTGARDE            person  categorical                 []\n14             HEALTH_TYP            person      ordinal             [-1,0]\n15    LP_LEBENSPHASE_FEIN            person        mixed                [0]\n16    LP_LEBENSPHASE_GROB            person        mixed                [0]\n17        LP_FAMILIE_FEIN            person  categorical                [0]\n18        LP_FAMILIE_GROB            person  categorical                [0]\n19         LP_STATUS_FEIN            person  categorical                [0]\n20         LP_STATUS_GROB            person  categorical                [0]\n21       NATIONALITAET_KZ            person  categorical             [-1,0]\n22  PRAEGENDE_JUGENDJAHRE            person        mixed             [-1,0]\n23         RETOURTYP_BK_S            person      ordinal                [0]\n24              SEMIO_SOZ            person      ordinal             [-1,9]\n25              SEMIO_FAM            person      ordinal             [-1,9]\n26              SEMIO_REL            person      ordinal             [-1,9]\n27              SEMIO_MAT            person      ordinal             [-1,9]\n28             SEMIO_VERT            person      ordinal             [-1,9]\n29             SEMIO_LUST            person      ordinal             [-1,9]\n30              SEMIO_ERL            person      ordinal             [-1,9]\n31             SEMIO_KULT            person      ordinal             [-1,9]\n32              SEMIO_RAT            person      ordinal             [-1,9]\n33             SEMIO_KRIT            person      ordinal             [-1,9]\n34              SEMIO_DOM            person      ordinal             [-1,9]\n35             SEMIO_KAEM            person      ordinal             [-1,9]\n36          SEMIO_PFLICHT            person      ordinal             [-1,9]\n37            SEMIO_TRADV            person      ordinal             [-1,9]\n38            SHOPPER_TYP            person  categorical               [-1]\n39                SOHO_KZ            person  categorical               [-1]\n40               TITEL_KZ            person  categorical             [-1,0]\n41               VERS_TYP            person  categorical               [-1]\n42               ZABEOTYP            person  categorical             [-1,9]\n43               ALTER_HH         household     interval                [0]\n44           ANZ_PERSONEN         household      numeric                 []\n45              ANZ_TITEL         household      numeric                 []\n46     HH_EINKOMMEN_SCORE         household      ordinal             [-1,0]\n47           KK_KUNDENTYP         household  categorical               [-1]\n48         W_KEIT_KIND_HH         household      ordinal             [-1,0]\n49         WOHNDAUER_2008         household      ordinal             [-1,0]\n50    ANZ_HAUSHALTE_AKTIV          building      numeric                [0]\n51           ANZ_HH_TITEL          building      numeric                 []\n52            GEBAEUDETYP          building  categorical             [-1,0]\n53            KONSUMNAEHE          building      ordinal                 []\n54       MIN_GEBAEUDEJAHR          building      numeric                [0]\n55            OST_WEST_KZ          building  categorical               [-1]\n56               WOHNLAGE          building        mixed               [-1]\n57        CAMEO_DEUG_2015     microcell_rr4  categorical             [-1,X]\n58         CAMEO_DEU_2015     microcell_rr4  categorical               [XX]\n59        CAMEO_INTL_2015     microcell_rr4        mixed            [-1,XX]\n60            KBA05_ANTG1     microcell_rr3      ordinal               [-1]\n61            KBA05_ANTG2     microcell_rr3      ordinal               [-1]\n62            KBA05_ANTG3     microcell_rr3      ordinal               [-1]\n63            KBA05_ANTG4     microcell_rr3      ordinal               [-1]\n64           KBA05_BAUMAX     microcell_rr3        mixed             [-1,0]\n65              KBA05_GBZ     microcell_rr3      ordinal             [-1,0]\n66               BALLRAUM          postcode      ordinal               [-1]\n67               EWDICHTE          postcode      ordinal               [-1]\n68             INNENSTADT          postcode      ordinal               [-1]\n69     GEBAEUDETYP_RASTER        region_rr1      ordinal                 []\n70                    KKK        region_rr1      ordinal             [-1,0]\n71             MOBI_REGIO        region_rr1      ordinal                 []\n72      ONLINE_AFFINITAET        region_rr1      ordinal                 []\n73               REGIOTYP        region_rr1      ordinal             [-1,0]\n74       KBA13_ANZAHL_PKW    macrocell_plz8      numeric                 []\n75             PLZ8_ANTG1    macrocell_plz8      ordinal               [-1]\n76             PLZ8_ANTG2    macrocell_plz8      ordinal               [-1]\n77             PLZ8_ANTG3    macrocell_plz8      ordinal               [-1]\n78             PLZ8_ANTG4    macrocell_plz8      ordinal               [-1]\n79            PLZ8_BAUMAX    macrocell_plz8        mixed             [-1,0]\n80               PLZ8_HHZ    macrocell_plz8      ordinal               [-1]\n81               PLZ8_GBZ    macrocell_plz8      ordinal               [-1]\n82                 ARBEIT         community      ordinal             [-1,9]\n83            ORTSGR_KLS9         community      ordinal             [-1,0]\n84               RELAT_AB         community      ordinal             [-1,9]",
      "text/html": "<div>\n<style scoped>\n    .dataframe tbody tr th:only-of-type {\n        vertical-align: middle;\n    }\n\n    .dataframe tbody tr th {\n        vertical-align: top;\n    }\n\n    .dataframe thead th {\n        text-align: right;\n    }\n</style>\n<table border=\"1\" class=\"dataframe\">\n  <thead>\n    <tr style=\"text-align: right;\">\n      <th></th>\n      <th>attribute</th>\n      <th>information_level</th>\n      <th>type</th>\n      <th>missing_or_unknown</th>\n    </tr>\n  </thead>\n  <tbody>\n    <tr>\n      <th>0</th>\n      <td>AGER_TYP</td>\n      <td>person</td>\n      <td>categorical</td>\n      <td>[-1,0]</td>\n    </tr>\n    <tr>\n      <th>1</th>\n      <td>ALTERSKATEGORIE_GROB</td>\n      <td>person</td>\n      <td>ordinal</td>\n      <td>[-1,0,9]</td>\n    </tr>\n    <tr>\n      <th>2</th>\n      <td>ANREDE_KZ</td>\n      <td>person</td>\n      <td>categorical</td>\n      <td>[-1,0]</td>\n    </tr>\n    <tr>\n      <th>3</th>\n      <td>CJT_GESAMTTYP</td>\n      <td>person</td>\n      <td>categorical</td>\n      <td>[0]</td>\n    </tr>\n    <tr>\n      <th>4</th>\n      <td>FINANZ_MINIMALIST</td>\n      <td>person</td>\n      <td>ordinal</td>\n      <td>[-1]</td>\n    </tr>\n    <tr>\n      <th>5</th>\n      <td>FINANZ_SPARER</td>\n      <td>person</td>\n      <td>ordinal</td>\n      <td>[-1]</td>\n    </tr>\n    <tr>\n      <th>6</th>\n      <td>FINANZ_VORSORGER</td>\n      <td>person</td>\n      <td>ordinal</td>\n      <td>[-1]</td>\n    </tr>\n    <tr>\n      <th>7</th>\n      <td>FINANZ_ANLEGER</td>\n      <td>person</td>\n      <td>ordinal</td>\n      <td>[-1]</td>\n    </tr>\n    <tr>\n      <th>8</th>\n      <td>FINANZ_UNAUFFAELLIGER</td>\n      <td>person</td>\n      <td>ordinal</td>\n      <td>[-1]</td>\n    </tr>\n    <tr>\n      <th>9</th>\n      <td>FINANZ_HAUSBAUER</td>\n      <td>person</td>\n      <td>ordinal</td>\n      <td>[-1]</td>\n    </tr>\n    <tr>\n      <th>10</th>\n      <td>FINANZTYP</td>\n      <td>person</td>\n      <td>categorical</td>\n      <td>[-1]</td>\n    </tr>\n    <tr>\n      <th>11</th>\n      <td>GEBURTSJAHR</td>\n      <td>person</td>\n      <td>numeric</td>\n      <td>[0]</td>\n    </tr>\n    <tr>\n      <th>12</th>\n      <td>GFK_URLAUBERTYP</td>\n      <td>person</td>\n      <td>categorical</td>\n      <td>[]</td>\n    </tr>\n    <tr>\n      <th>13</th>\n      <td>GREEN_AVANTGARDE</td>\n      <td>person</td>\n      <td>categorical</td>\n      <td>[]</td>\n    </tr>\n    <tr>\n      <th>14</th>\n      <td>HEALTH_TYP</td>\n      <td>person</td>\n      <td>ordinal</td>\n      <td>[-1,0]</td>\n    </tr>\n    <tr>\n      <th>15</th>\n      <td>LP_LEBENSPHASE_FEIN</td>\n      <td>person</td>\n      <td>mixed</td>\n      <td>[0]</td>\n    </tr>\n    <tr>\n      <th>16</th>\n      <td>LP_LEBENSPHASE_GROB</td>\n      <td>person</td>\n      <td>mixed</td>\n      <td>[0]</td>\n    </tr>\n    <tr>\n      <th>17</th>\n      <td>LP_FAMILIE_FEIN</td>\n      <td>person</td>\n      <td>categorical</td>\n      <td>[0]</td>\n    </tr>\n    <tr>\n      <th>18</th>\n      <td>LP_FAMILIE_GROB</td>\n      <td>person</td>\n      <td>categorical</td>\n      <td>[0]</td>\n    </tr>\n    <tr>\n      <th>19</th>\n      <td>LP_STATUS_FEIN</td>\n      <td>person</td>\n      <td>categorical</td>\n      <td>[0]</td>\n    </tr>\n    <tr>\n      <th>20</th>\n      <td>LP_STATUS_GROB</td>\n      <td>person</td>\n      <td>categorical</td>\n      <td>[0]</td>\n    </tr>\n    <tr>\n      <th>21</th>\n      <td>NATIONALITAET_KZ</td>\n      <td>person</td>\n      <td>categorical</td>\n      <td>[-1,0]</td>\n    </tr>\n    <tr>\n      <th>22</th>\n      <td>PRAEGENDE_JUGENDJAHRE</td>\n      <td>person</td>\n      <td>mixed</td>\n      <td>[-1,0]</td>\n    </tr>\n    <tr>\n      <th>23</th>\n      <td>RETOURTYP_BK_S</td>\n      <td>person</td>\n      <td>ordinal</td>\n      <td>[0]</td>\n    </tr>\n    <tr>\n      <th>24</th>\n      <td>SEMIO_SOZ</td>\n      <td>person</td>\n      <td>ordinal</td>\n      <td>[-1,9]</td>\n    </tr>\n    <tr>\n      <th>25</th>\n      <td>SEMIO_FAM</td>\n      <td>person</td>\n      <td>ordinal</td>\n      <td>[-1,9]</td>\n    </tr>\n    <tr>\n      <th>26</th>\n      <td>SEMIO_REL</td>\n      <td>person</td>\n      <td>ordinal</td>\n      <td>[-1,9]</td>\n    </tr>\n    <tr>\n      <th>27</th>\n      <td>SEMIO_MAT</td>\n      <td>person</td>\n      <td>ordinal</td>\n      <td>[-1,9]</td>\n    </tr>\n    <tr>\n      <th>28</th>\n      <td>SEMIO_VERT</td>\n      <td>person</td>\n      <td>ordinal</td>\n      <td>[-1,9]</td>\n    </tr>\n    <tr>\n      <th>29</th>\n      <td>SEMIO_LUST</td>\n      <td>person</td>\n      <td>ordinal</td>\n      <td>[-1,9]</td>\n    </tr>\n    <tr>\n      <th>30</th>\n      <td>SEMIO_ERL</td>\n      <td>person</td>\n      <td>ordinal</td>\n      <td>[-1,9]</td>\n    </tr>\n    <tr>\n      <th>31</th>\n      <td>SEMIO_KULT</td>\n      <td>person</td>\n      <td>ordinal</td>\n      <td>[-1,9]</td>\n    </tr>\n    <tr>\n      <th>32</th>\n      <td>SEMIO_RAT</td>\n      <td>person</td>\n      <td>ordinal</td>\n      <td>[-1,9]</td>\n    </tr>\n    <tr>\n      <th>33</th>\n      <td>SEMIO_KRIT</td>\n      <td>person</td>\n      <td>ordinal</td>\n      <td>[-1,9]</td>\n    </tr>\n    <tr>\n      <th>34</th>\n      <td>SEMIO_DOM</td>\n      <td>person</td>\n      <td>ordinal</td>\n      <td>[-1,9]</td>\n    </tr>\n    <tr>\n      <th>35</th>\n      <td>SEMIO_KAEM</td>\n      <td>person</td>\n      <td>ordinal</td>\n      <td>[-1,9]</td>\n    </tr>\n    <tr>\n      <th>36</th>\n      <td>SEMIO_PFLICHT</td>\n      <td>person</td>\n      <td>ordinal</td>\n      <td>[-1,9]</td>\n    </tr>\n    <tr>\n      <th>37</th>\n      <td>SEMIO_TRADV</td>\n      <td>person</td>\n      <td>ordinal</td>\n      <td>[-1,9]</td>\n    </tr>\n    <tr>\n      <th>38</th>\n      <td>SHOPPER_TYP</td>\n      <td>person</td>\n      <td>categorical</td>\n      <td>[-1]</td>\n    </tr>\n    <tr>\n      <th>39</th>\n      <td>SOHO_KZ</td>\n      <td>person</td>\n      <td>categorical</td>\n      <td>[-1]</td>\n    </tr>\n    <tr>\n      <th>40</th>\n      <td>TITEL_KZ</td>\n      <td>person</td>\n      <td>categorical</td>\n      <td>[-1,0]</td>\n    </tr>\n    <tr>\n      <th>41</th>\n      <td>VERS_TYP</td>\n      <td>person</td>\n      <td>categorical</td>\n      <td>[-1]</td>\n    </tr>\n    <tr>\n      <th>42</th>\n      <td>ZABEOTYP</td>\n      <td>person</td>\n      <td>categorical</td>\n      <td>[-1,9]</td>\n    </tr>\n    <tr>\n      <th>43</th>\n      <td>ALTER_HH</td>\n      <td>household</td>\n      <td>interval</td>\n      <td>[0]</td>\n    </tr>\n    <tr>\n      <th>44</th>\n      <td>ANZ_PERSONEN</td>\n      <td>household</td>\n      <td>numeric</td>\n      <td>[]</td>\n    </tr>\n    <tr>\n      <th>45</th>\n      <td>ANZ_TITEL</td>\n      <td>household</td>\n      <td>numeric</td>\n      <td>[]</td>\n    </tr>\n    <tr>\n      <th>46</th>\n      <td>HH_EINKOMMEN_SCORE</td>\n      <td>household</td>\n      <td>ordinal</td>\n      <td>[-1,0]</td>\n    </tr>\n    <tr>\n      <th>47</th>\n      <td>KK_KUNDENTYP</td>\n      <td>household</td>\n      <td>categorical</td>\n      <td>[-1]</td>\n    </tr>\n    <tr>\n      <th>48</th>\n      <td>W_KEIT_KIND_HH</td>\n      <td>household</td>\n      <td>ordinal</td>\n      <td>[-1,0]</td>\n    </tr>\n    <tr>\n      <th>49</th>\n      <td>WOHNDAUER_2008</td>\n      <td>household</td>\n      <td>ordinal</td>\n      <td>[-1,0]</td>\n    </tr>\n    <tr>\n      <th>50</th>\n      <td>ANZ_HAUSHALTE_AKTIV</td>\n      <td>building</td>\n      <td>numeric</td>\n      <td>[0]</td>\n    </tr>\n    <tr>\n      <th>51</th>\n      <td>ANZ_HH_TITEL</td>\n      <td>building</td>\n      <td>numeric</td>\n      <td>[]</td>\n    </tr>\n    <tr>\n      <th>52</th>\n      <td>GEBAEUDETYP</td>\n      <td>building</td>\n      <td>categorical</td>\n      <td>[-1,0]</td>\n    </tr>\n    <tr>\n      <th>53</th>\n      <td>KONSUMNAEHE</td>\n      <td>building</td>\n      <td>ordinal</td>\n      <td>[]</td>\n    </tr>\n    <tr>\n      <th>54</th>\n      <td>MIN_GEBAEUDEJAHR</td>\n      <td>building</td>\n      <td>numeric</td>\n      <td>[0]</td>\n    </tr>\n    <tr>\n      <th>55</th>\n      <td>OST_WEST_KZ</td>\n      <td>building</td>\n      <td>categorical</td>\n      <td>[-1]</td>\n    </tr>\n    <tr>\n      <th>56</th>\n      <td>WOHNLAGE</td>\n      <td>building</td>\n      <td>mixed</td>\n      <td>[-1]</td>\n    </tr>\n    <tr>\n      <th>57</th>\n      <td>CAMEO_DEUG_2015</td>\n      <td>microcell_rr4</td>\n      <td>categorical</td>\n      <td>[-1,X]</td>\n    </tr>\n    <tr>\n      <th>58</th>\n      <td>CAMEO_DEU_2015</td>\n      <td>microcell_rr4</td>\n      <td>categorical</td>\n      <td>[XX]</td>\n    </tr>\n    <tr>\n      <th>59</th>\n      <td>CAMEO_INTL_2015</td>\n      <td>microcell_rr4</td>\n      <td>mixed</td>\n      <td>[-1,XX]</td>\n    </tr>\n    <tr>\n      <th>60</th>\n      <td>KBA05_ANTG1</td>\n      <td>microcell_rr3</td>\n      <td>ordinal</td>\n      <td>[-1]</td>\n    </tr>\n    <tr>\n      <th>61</th>\n      <td>KBA05_ANTG2</td>\n      <td>microcell_rr3</td>\n      <td>ordinal</td>\n      <td>[-1]</td>\n    </tr>\n    <tr>\n      <th>62</th>\n      <td>KBA05_ANTG3</td>\n      <td>microcell_rr3</td>\n      <td>ordinal</td>\n      <td>[-1]</td>\n    </tr>\n    <tr>\n      <th>63</th>\n      <td>KBA05_ANTG4</td>\n      <td>microcell_rr3</td>\n      <td>ordinal</td>\n      <td>[-1]</td>\n    </tr>\n    <tr>\n      <th>64</th>\n      <td>KBA05_BAUMAX</td>\n      <td>microcell_rr3</td>\n      <td>mixed</td>\n      <td>[-1,0]</td>\n    </tr>\n    <tr>\n      <th>65</th>\n      <td>KBA05_GBZ</td>\n      <td>microcell_rr3</td>\n      <td>ordinal</td>\n      <td>[-1,0]</td>\n    </tr>\n    <tr>\n      <th>66</th>\n      <td>BALLRAUM</td>\n      <td>postcode</td>\n      <td>ordinal</td>\n      <td>[-1]</td>\n    </tr>\n    <tr>\n      <th>67</th>\n      <td>EWDICHTE</td>\n      <td>postcode</td>\n      <td>ordinal</td>\n      <td>[-1]</td>\n    </tr>\n    <tr>\n      <th>68</th>\n      <td>INNENSTADT</td>\n      <td>postcode</td>\n      <td>ordinal</td>\n      <td>[-1]</td>\n    </tr>\n    <tr>\n      <th>69</th>\n      <td>GEBAEUDETYP_RASTER</td>\n      <td>region_rr1</td>\n      <td>ordinal</td>\n      <td>[]</td>\n    </tr>\n    <tr>\n      <th>70</th>\n      <td>KKK</td>\n      <td>region_rr1</td>\n      <td>ordinal</td>\n      <td>[-1,0]</td>\n    </tr>\n    <tr>\n      <th>71</th>\n      <td>MOBI_REGIO</td>\n      <td>region_rr1</td>\n      <td>ordinal</td>\n      <td>[]</td>\n    </tr>\n    <tr>\n      <th>72</th>\n      <td>ONLINE_AFFINITAET</td>\n      <td>region_rr1</td>\n      <td>ordinal</td>\n      <td>[]</td>\n    </tr>\n    <tr>\n      <th>73</th>\n      <td>REGIOTYP</td>\n      <td>region_rr1</td>\n      <td>ordinal</td>\n      <td>[-1,0]</td>\n    </tr>\n    <tr>\n      <th>74</th>\n      <td>KBA13_ANZAHL_PKW</td>\n      <td>macrocell_plz8</td>\n      <td>numeric</td>\n      <td>[]</td>\n    </tr>\n    <tr>\n      <th>75</th>\n      <td>PLZ8_ANTG1</td>\n      <td>macrocell_plz8</td>\n      <td>ordinal</td>\n      <td>[-1]</td>\n    </tr>\n    <tr>\n      <th>76</th>\n      <td>PLZ8_ANTG2</td>\n      <td>macrocell_plz8</td>\n      <td>ordinal</td>\n      <td>[-1]</td>\n    </tr>\n    <tr>\n      <th>77</th>\n      <td>PLZ8_ANTG3</td>\n      <td>macrocell_plz8</td>\n      <td>ordinal</td>\n      <td>[-1]</td>\n    </tr>\n    <tr>\n      <th>78</th>\n      <td>PLZ8_ANTG4</td>\n      <td>macrocell_plz8</td>\n      <td>ordinal</td>\n      <td>[-1]</td>\n    </tr>\n    <tr>\n      <th>79</th>\n      <td>PLZ8_BAUMAX</td>\n      <td>macrocell_plz8</td>\n      <td>mixed</td>\n      <td>[-1,0]</td>\n    </tr>\n    <tr>\n      <th>80</th>\n      <td>PLZ8_HHZ</td>\n      <td>macrocell_plz8</td>\n      <td>ordinal</td>\n      <td>[-1]</td>\n    </tr>\n    <tr>\n      <th>81</th>\n      <td>PLZ8_GBZ</td>\n      <td>macrocell_plz8</td>\n      <td>ordinal</td>\n      <td>[-1]</td>\n    </tr>\n    <tr>\n      <th>82</th>\n      <td>ARBEIT</td>\n      <td>community</td>\n      <td>ordinal</td>\n      <td>[-1,9]</td>\n    </tr>\n    <tr>\n      <th>83</th>\n      <td>ORTSGR_KLS9</td>\n      <td>community</td>\n      <td>ordinal</td>\n      <td>[-1,0]</td>\n    </tr>\n    <tr>\n      <th>84</th>\n      <td>RELAT_AB</td>\n      <td>community</td>\n      <td>ordinal</td>\n      <td>[-1,9]</td>\n    </tr>\n  </tbody>\n</table>\n</div>"
     },
     "metadata": {}
    }
   ],
   "source": [
    "display(feat_info)"
   ]
  },
  {
   "cell_type": "code",
   "execution_count": 59,
   "metadata": {},
   "outputs": [
    {
     "output_type": "display_data",
     "data": {
      "text/plain": "                attribute information_level         type missing_or_unknown\n0                AGER_TYP            person  categorical            [-1, 0]\n1    ALTERSKATEGORIE_GROB            person      ordinal         [-1, 0, 9]\n2               ANREDE_KZ            person  categorical            [-1, 0]\n3           CJT_GESAMTTYP            person  categorical                [0]\n4       FINANZ_MINIMALIST            person      ordinal               [-1]\n5           FINANZ_SPARER            person      ordinal               [-1]\n6        FINANZ_VORSORGER            person      ordinal               [-1]\n7          FINANZ_ANLEGER            person      ordinal               [-1]\n8   FINANZ_UNAUFFAELLIGER            person      ordinal               [-1]\n9        FINANZ_HAUSBAUER            person      ordinal               [-1]\n10              FINANZTYP            person  categorical               [-1]\n11            GEBURTSJAHR            person      numeric                [0]\n12        GFK_URLAUBERTYP            person  categorical              [nan]\n13       GREEN_AVANTGARDE            person  categorical              [nan]\n14             HEALTH_TYP            person      ordinal            [-1, 0]\n15    LP_LEBENSPHASE_FEIN            person        mixed                [0]\n16    LP_LEBENSPHASE_GROB            person        mixed                [0]\n17        LP_FAMILIE_FEIN            person  categorical                [0]\n18        LP_FAMILIE_GROB            person  categorical                [0]\n19         LP_STATUS_FEIN            person  categorical                [0]\n20         LP_STATUS_GROB            person  categorical                [0]\n21       NATIONALITAET_KZ            person  categorical            [-1, 0]\n22  PRAEGENDE_JUGENDJAHRE            person        mixed            [-1, 0]\n23         RETOURTYP_BK_S            person      ordinal                [0]\n24              SEMIO_SOZ            person      ordinal            [-1, 9]\n25              SEMIO_FAM            person      ordinal            [-1, 9]\n26              SEMIO_REL            person      ordinal            [-1, 9]\n27              SEMIO_MAT            person      ordinal            [-1, 9]\n28             SEMIO_VERT            person      ordinal            [-1, 9]\n29             SEMIO_LUST            person      ordinal            [-1, 9]\n30              SEMIO_ERL            person      ordinal            [-1, 9]\n31             SEMIO_KULT            person      ordinal            [-1, 9]\n32              SEMIO_RAT            person      ordinal            [-1, 9]\n33             SEMIO_KRIT            person      ordinal            [-1, 9]\n34              SEMIO_DOM            person      ordinal            [-1, 9]\n35             SEMIO_KAEM            person      ordinal            [-1, 9]\n36          SEMIO_PFLICHT            person      ordinal            [-1, 9]\n37            SEMIO_TRADV            person      ordinal            [-1, 9]\n38            SHOPPER_TYP            person  categorical               [-1]\n39                SOHO_KZ            person  categorical               [-1]\n40               TITEL_KZ            person  categorical            [-1, 0]\n41               VERS_TYP            person  categorical               [-1]\n42               ZABEOTYP            person  categorical            [-1, 9]\n43               ALTER_HH         household     interval                [0]\n44           ANZ_PERSONEN         household      numeric              [nan]\n45              ANZ_TITEL         household      numeric              [nan]\n46     HH_EINKOMMEN_SCORE         household      ordinal            [-1, 0]\n47           KK_KUNDENTYP         household  categorical               [-1]\n48         W_KEIT_KIND_HH         household      ordinal            [-1, 0]\n49         WOHNDAUER_2008         household      ordinal            [-1, 0]\n50    ANZ_HAUSHALTE_AKTIV          building      numeric                [0]\n51           ANZ_HH_TITEL          building      numeric              [nan]\n52            GEBAEUDETYP          building  categorical            [-1, 0]\n53            KONSUMNAEHE          building      ordinal              [nan]\n54       MIN_GEBAEUDEJAHR          building      numeric                [0]\n55            OST_WEST_KZ          building  categorical               [-1]\n56               WOHNLAGE          building        mixed               [-1]\n57        CAMEO_DEUG_2015     microcell_rr4  categorical            [-1, X]\n58         CAMEO_DEU_2015     microcell_rr4  categorical               [XX]\n59        CAMEO_INTL_2015     microcell_rr4        mixed           [-1, XX]\n60            KBA05_ANTG1     microcell_rr3      ordinal               [-1]\n61            KBA05_ANTG2     microcell_rr3      ordinal               [-1]\n62            KBA05_ANTG3     microcell_rr3      ordinal               [-1]\n63            KBA05_ANTG4     microcell_rr3      ordinal               [-1]\n64           KBA05_BAUMAX     microcell_rr3        mixed            [-1, 0]\n65              KBA05_GBZ     microcell_rr3      ordinal            [-1, 0]\n66               BALLRAUM          postcode      ordinal               [-1]\n67               EWDICHTE          postcode      ordinal               [-1]\n68             INNENSTADT          postcode      ordinal               [-1]\n69     GEBAEUDETYP_RASTER        region_rr1      ordinal              [nan]\n70                    KKK        region_rr1      ordinal            [-1, 0]\n71             MOBI_REGIO        region_rr1      ordinal              [nan]\n72      ONLINE_AFFINITAET        region_rr1      ordinal              [nan]\n73               REGIOTYP        region_rr1      ordinal            [-1, 0]\n74       KBA13_ANZAHL_PKW    macrocell_plz8      numeric              [nan]\n75             PLZ8_ANTG1    macrocell_plz8      ordinal               [-1]\n76             PLZ8_ANTG2    macrocell_plz8      ordinal               [-1]\n77             PLZ8_ANTG3    macrocell_plz8      ordinal               [-1]\n78             PLZ8_ANTG4    macrocell_plz8      ordinal               [-1]\n79            PLZ8_BAUMAX    macrocell_plz8        mixed            [-1, 0]\n80               PLZ8_HHZ    macrocell_plz8      ordinal               [-1]\n81               PLZ8_GBZ    macrocell_plz8      ordinal               [-1]\n82                 ARBEIT         community      ordinal            [-1, 9]\n83            ORTSGR_KLS9         community      ordinal            [-1, 0]\n84               RELAT_AB         community      ordinal            [-1, 9]",
      "text/html": "<div>\n<style scoped>\n    .dataframe tbody tr th:only-of-type {\n        vertical-align: middle;\n    }\n\n    .dataframe tbody tr th {\n        vertical-align: top;\n    }\n\n    .dataframe thead th {\n        text-align: right;\n    }\n</style>\n<table border=\"1\" class=\"dataframe\">\n  <thead>\n    <tr style=\"text-align: right;\">\n      <th></th>\n      <th>attribute</th>\n      <th>information_level</th>\n      <th>type</th>\n      <th>missing_or_unknown</th>\n    </tr>\n  </thead>\n  <tbody>\n    <tr>\n      <th>0</th>\n      <td>AGER_TYP</td>\n      <td>person</td>\n      <td>categorical</td>\n      <td>[-1, 0]</td>\n    </tr>\n    <tr>\n      <th>1</th>\n      <td>ALTERSKATEGORIE_GROB</td>\n      <td>person</td>\n      <td>ordinal</td>\n      <td>[-1, 0, 9]</td>\n    </tr>\n    <tr>\n      <th>2</th>\n      <td>ANREDE_KZ</td>\n      <td>person</td>\n      <td>categorical</td>\n      <td>[-1, 0]</td>\n    </tr>\n    <tr>\n      <th>3</th>\n      <td>CJT_GESAMTTYP</td>\n      <td>person</td>\n      <td>categorical</td>\n      <td>[0]</td>\n    </tr>\n    <tr>\n      <th>4</th>\n      <td>FINANZ_MINIMALIST</td>\n      <td>person</td>\n      <td>ordinal</td>\n      <td>[-1]</td>\n    </tr>\n    <tr>\n      <th>5</th>\n      <td>FINANZ_SPARER</td>\n      <td>person</td>\n      <td>ordinal</td>\n      <td>[-1]</td>\n    </tr>\n    <tr>\n      <th>6</th>\n      <td>FINANZ_VORSORGER</td>\n      <td>person</td>\n      <td>ordinal</td>\n      <td>[-1]</td>\n    </tr>\n    <tr>\n      <th>7</th>\n      <td>FINANZ_ANLEGER</td>\n      <td>person</td>\n      <td>ordinal</td>\n      <td>[-1]</td>\n    </tr>\n    <tr>\n      <th>8</th>\n      <td>FINANZ_UNAUFFAELLIGER</td>\n      <td>person</td>\n      <td>ordinal</td>\n      <td>[-1]</td>\n    </tr>\n    <tr>\n      <th>9</th>\n      <td>FINANZ_HAUSBAUER</td>\n      <td>person</td>\n      <td>ordinal</td>\n      <td>[-1]</td>\n    </tr>\n    <tr>\n      <th>10</th>\n      <td>FINANZTYP</td>\n      <td>person</td>\n      <td>categorical</td>\n      <td>[-1]</td>\n    </tr>\n    <tr>\n      <th>11</th>\n      <td>GEBURTSJAHR</td>\n      <td>person</td>\n      <td>numeric</td>\n      <td>[0]</td>\n    </tr>\n    <tr>\n      <th>12</th>\n      <td>GFK_URLAUBERTYP</td>\n      <td>person</td>\n      <td>categorical</td>\n      <td>[nan]</td>\n    </tr>\n    <tr>\n      <th>13</th>\n      <td>GREEN_AVANTGARDE</td>\n      <td>person</td>\n      <td>categorical</td>\n      <td>[nan]</td>\n    </tr>\n    <tr>\n      <th>14</th>\n      <td>HEALTH_TYP</td>\n      <td>person</td>\n      <td>ordinal</td>\n      <td>[-1, 0]</td>\n    </tr>\n    <tr>\n      <th>15</th>\n      <td>LP_LEBENSPHASE_FEIN</td>\n      <td>person</td>\n      <td>mixed</td>\n      <td>[0]</td>\n    </tr>\n    <tr>\n      <th>16</th>\n      <td>LP_LEBENSPHASE_GROB</td>\n      <td>person</td>\n      <td>mixed</td>\n      <td>[0]</td>\n    </tr>\n    <tr>\n      <th>17</th>\n      <td>LP_FAMILIE_FEIN</td>\n      <td>person</td>\n      <td>categorical</td>\n      <td>[0]</td>\n    </tr>\n    <tr>\n      <th>18</th>\n      <td>LP_FAMILIE_GROB</td>\n      <td>person</td>\n      <td>categorical</td>\n      <td>[0]</td>\n    </tr>\n    <tr>\n      <th>19</th>\n      <td>LP_STATUS_FEIN</td>\n      <td>person</td>\n      <td>categorical</td>\n      <td>[0]</td>\n    </tr>\n    <tr>\n      <th>20</th>\n      <td>LP_STATUS_GROB</td>\n      <td>person</td>\n      <td>categorical</td>\n      <td>[0]</td>\n    </tr>\n    <tr>\n      <th>21</th>\n      <td>NATIONALITAET_KZ</td>\n      <td>person</td>\n      <td>categorical</td>\n      <td>[-1, 0]</td>\n    </tr>\n    <tr>\n      <th>22</th>\n      <td>PRAEGENDE_JUGENDJAHRE</td>\n      <td>person</td>\n      <td>mixed</td>\n      <td>[-1, 0]</td>\n    </tr>\n    <tr>\n      <th>23</th>\n      <td>RETOURTYP_BK_S</td>\n      <td>person</td>\n      <td>ordinal</td>\n      <td>[0]</td>\n    </tr>\n    <tr>\n      <th>24</th>\n      <td>SEMIO_SOZ</td>\n      <td>person</td>\n      <td>ordinal</td>\n      <td>[-1, 9]</td>\n    </tr>\n    <tr>\n      <th>25</th>\n      <td>SEMIO_FAM</td>\n      <td>person</td>\n      <td>ordinal</td>\n      <td>[-1, 9]</td>\n    </tr>\n    <tr>\n      <th>26</th>\n      <td>SEMIO_REL</td>\n      <td>person</td>\n      <td>ordinal</td>\n      <td>[-1, 9]</td>\n    </tr>\n    <tr>\n      <th>27</th>\n      <td>SEMIO_MAT</td>\n      <td>person</td>\n      <td>ordinal</td>\n      <td>[-1, 9]</td>\n    </tr>\n    <tr>\n      <th>28</th>\n      <td>SEMIO_VERT</td>\n      <td>person</td>\n      <td>ordinal</td>\n      <td>[-1, 9]</td>\n    </tr>\n    <tr>\n      <th>29</th>\n      <td>SEMIO_LUST</td>\n      <td>person</td>\n      <td>ordinal</td>\n      <td>[-1, 9]</td>\n    </tr>\n    <tr>\n      <th>30</th>\n      <td>SEMIO_ERL</td>\n      <td>person</td>\n      <td>ordinal</td>\n      <td>[-1, 9]</td>\n    </tr>\n    <tr>\n      <th>31</th>\n      <td>SEMIO_KULT</td>\n      <td>person</td>\n      <td>ordinal</td>\n      <td>[-1, 9]</td>\n    </tr>\n    <tr>\n      <th>32</th>\n      <td>SEMIO_RAT</td>\n      <td>person</td>\n      <td>ordinal</td>\n      <td>[-1, 9]</td>\n    </tr>\n    <tr>\n      <th>33</th>\n      <td>SEMIO_KRIT</td>\n      <td>person</td>\n      <td>ordinal</td>\n      <td>[-1, 9]</td>\n    </tr>\n    <tr>\n      <th>34</th>\n      <td>SEMIO_DOM</td>\n      <td>person</td>\n      <td>ordinal</td>\n      <td>[-1, 9]</td>\n    </tr>\n    <tr>\n      <th>35</th>\n      <td>SEMIO_KAEM</td>\n      <td>person</td>\n      <td>ordinal</td>\n      <td>[-1, 9]</td>\n    </tr>\n    <tr>\n      <th>36</th>\n      <td>SEMIO_PFLICHT</td>\n      <td>person</td>\n      <td>ordinal</td>\n      <td>[-1, 9]</td>\n    </tr>\n    <tr>\n      <th>37</th>\n      <td>SEMIO_TRADV</td>\n      <td>person</td>\n      <td>ordinal</td>\n      <td>[-1, 9]</td>\n    </tr>\n    <tr>\n      <th>38</th>\n      <td>SHOPPER_TYP</td>\n      <td>person</td>\n      <td>categorical</td>\n      <td>[-1]</td>\n    </tr>\n    <tr>\n      <th>39</th>\n      <td>SOHO_KZ</td>\n      <td>person</td>\n      <td>categorical</td>\n      <td>[-1]</td>\n    </tr>\n    <tr>\n      <th>40</th>\n      <td>TITEL_KZ</td>\n      <td>person</td>\n      <td>categorical</td>\n      <td>[-1, 0]</td>\n    </tr>\n    <tr>\n      <th>41</th>\n      <td>VERS_TYP</td>\n      <td>person</td>\n      <td>categorical</td>\n      <td>[-1]</td>\n    </tr>\n    <tr>\n      <th>42</th>\n      <td>ZABEOTYP</td>\n      <td>person</td>\n      <td>categorical</td>\n      <td>[-1, 9]</td>\n    </tr>\n    <tr>\n      <th>43</th>\n      <td>ALTER_HH</td>\n      <td>household</td>\n      <td>interval</td>\n      <td>[0]</td>\n    </tr>\n    <tr>\n      <th>44</th>\n      <td>ANZ_PERSONEN</td>\n      <td>household</td>\n      <td>numeric</td>\n      <td>[nan]</td>\n    </tr>\n    <tr>\n      <th>45</th>\n      <td>ANZ_TITEL</td>\n      <td>household</td>\n      <td>numeric</td>\n      <td>[nan]</td>\n    </tr>\n    <tr>\n      <th>46</th>\n      <td>HH_EINKOMMEN_SCORE</td>\n      <td>household</td>\n      <td>ordinal</td>\n      <td>[-1, 0]</td>\n    </tr>\n    <tr>\n      <th>47</th>\n      <td>KK_KUNDENTYP</td>\n      <td>household</td>\n      <td>categorical</td>\n      <td>[-1]</td>\n    </tr>\n    <tr>\n      <th>48</th>\n      <td>W_KEIT_KIND_HH</td>\n      <td>household</td>\n      <td>ordinal</td>\n      <td>[-1, 0]</td>\n    </tr>\n    <tr>\n      <th>49</th>\n      <td>WOHNDAUER_2008</td>\n      <td>household</td>\n      <td>ordinal</td>\n      <td>[-1, 0]</td>\n    </tr>\n    <tr>\n      <th>50</th>\n      <td>ANZ_HAUSHALTE_AKTIV</td>\n      <td>building</td>\n      <td>numeric</td>\n      <td>[0]</td>\n    </tr>\n    <tr>\n      <th>51</th>\n      <td>ANZ_HH_TITEL</td>\n      <td>building</td>\n      <td>numeric</td>\n      <td>[nan]</td>\n    </tr>\n    <tr>\n      <th>52</th>\n      <td>GEBAEUDETYP</td>\n      <td>building</td>\n      <td>categorical</td>\n      <td>[-1, 0]</td>\n    </tr>\n    <tr>\n      <th>53</th>\n      <td>KONSUMNAEHE</td>\n      <td>building</td>\n      <td>ordinal</td>\n      <td>[nan]</td>\n    </tr>\n    <tr>\n      <th>54</th>\n      <td>MIN_GEBAEUDEJAHR</td>\n      <td>building</td>\n      <td>numeric</td>\n      <td>[0]</td>\n    </tr>\n    <tr>\n      <th>55</th>\n      <td>OST_WEST_KZ</td>\n      <td>building</td>\n      <td>categorical</td>\n      <td>[-1]</td>\n    </tr>\n    <tr>\n      <th>56</th>\n      <td>WOHNLAGE</td>\n      <td>building</td>\n      <td>mixed</td>\n      <td>[-1]</td>\n    </tr>\n    <tr>\n      <th>57</th>\n      <td>CAMEO_DEUG_2015</td>\n      <td>microcell_rr4</td>\n      <td>categorical</td>\n      <td>[-1, X]</td>\n    </tr>\n    <tr>\n      <th>58</th>\n      <td>CAMEO_DEU_2015</td>\n      <td>microcell_rr4</td>\n      <td>categorical</td>\n      <td>[XX]</td>\n    </tr>\n    <tr>\n      <th>59</th>\n      <td>CAMEO_INTL_2015</td>\n      <td>microcell_rr4</td>\n      <td>mixed</td>\n      <td>[-1, XX]</td>\n    </tr>\n    <tr>\n      <th>60</th>\n      <td>KBA05_ANTG1</td>\n      <td>microcell_rr3</td>\n      <td>ordinal</td>\n      <td>[-1]</td>\n    </tr>\n    <tr>\n      <th>61</th>\n      <td>KBA05_ANTG2</td>\n      <td>microcell_rr3</td>\n      <td>ordinal</td>\n      <td>[-1]</td>\n    </tr>\n    <tr>\n      <th>62</th>\n      <td>KBA05_ANTG3</td>\n      <td>microcell_rr3</td>\n      <td>ordinal</td>\n      <td>[-1]</td>\n    </tr>\n    <tr>\n      <th>63</th>\n      <td>KBA05_ANTG4</td>\n      <td>microcell_rr3</td>\n      <td>ordinal</td>\n      <td>[-1]</td>\n    </tr>\n    <tr>\n      <th>64</th>\n      <td>KBA05_BAUMAX</td>\n      <td>microcell_rr3</td>\n      <td>mixed</td>\n      <td>[-1, 0]</td>\n    </tr>\n    <tr>\n      <th>65</th>\n      <td>KBA05_GBZ</td>\n      <td>microcell_rr3</td>\n      <td>ordinal</td>\n      <td>[-1, 0]</td>\n    </tr>\n    <tr>\n      <th>66</th>\n      <td>BALLRAUM</td>\n      <td>postcode</td>\n      <td>ordinal</td>\n      <td>[-1]</td>\n    </tr>\n    <tr>\n      <th>67</th>\n      <td>EWDICHTE</td>\n      <td>postcode</td>\n      <td>ordinal</td>\n      <td>[-1]</td>\n    </tr>\n    <tr>\n      <th>68</th>\n      <td>INNENSTADT</td>\n      <td>postcode</td>\n      <td>ordinal</td>\n      <td>[-1]</td>\n    </tr>\n    <tr>\n      <th>69</th>\n      <td>GEBAEUDETYP_RASTER</td>\n      <td>region_rr1</td>\n      <td>ordinal</td>\n      <td>[nan]</td>\n    </tr>\n    <tr>\n      <th>70</th>\n      <td>KKK</td>\n      <td>region_rr1</td>\n      <td>ordinal</td>\n      <td>[-1, 0]</td>\n    </tr>\n    <tr>\n      <th>71</th>\n      <td>MOBI_REGIO</td>\n      <td>region_rr1</td>\n      <td>ordinal</td>\n      <td>[nan]</td>\n    </tr>\n    <tr>\n      <th>72</th>\n      <td>ONLINE_AFFINITAET</td>\n      <td>region_rr1</td>\n      <td>ordinal</td>\n      <td>[nan]</td>\n    </tr>\n    <tr>\n      <th>73</th>\n      <td>REGIOTYP</td>\n      <td>region_rr1</td>\n      <td>ordinal</td>\n      <td>[-1, 0]</td>\n    </tr>\n    <tr>\n      <th>74</th>\n      <td>KBA13_ANZAHL_PKW</td>\n      <td>macrocell_plz8</td>\n      <td>numeric</td>\n      <td>[nan]</td>\n    </tr>\n    <tr>\n      <th>75</th>\n      <td>PLZ8_ANTG1</td>\n      <td>macrocell_plz8</td>\n      <td>ordinal</td>\n      <td>[-1]</td>\n    </tr>\n    <tr>\n      <th>76</th>\n      <td>PLZ8_ANTG2</td>\n      <td>macrocell_plz8</td>\n      <td>ordinal</td>\n      <td>[-1]</td>\n    </tr>\n    <tr>\n      <th>77</th>\n      <td>PLZ8_ANTG3</td>\n      <td>macrocell_plz8</td>\n      <td>ordinal</td>\n      <td>[-1]</td>\n    </tr>\n    <tr>\n      <th>78</th>\n      <td>PLZ8_ANTG4</td>\n      <td>macrocell_plz8</td>\n      <td>ordinal</td>\n      <td>[-1]</td>\n    </tr>\n    <tr>\n      <th>79</th>\n      <td>PLZ8_BAUMAX</td>\n      <td>macrocell_plz8</td>\n      <td>mixed</td>\n      <td>[-1, 0]</td>\n    </tr>\n    <tr>\n      <th>80</th>\n      <td>PLZ8_HHZ</td>\n      <td>macrocell_plz8</td>\n      <td>ordinal</td>\n      <td>[-1]</td>\n    </tr>\n    <tr>\n      <th>81</th>\n      <td>PLZ8_GBZ</td>\n      <td>macrocell_plz8</td>\n      <td>ordinal</td>\n      <td>[-1]</td>\n    </tr>\n    <tr>\n      <th>82</th>\n      <td>ARBEIT</td>\n      <td>community</td>\n      <td>ordinal</td>\n      <td>[-1, 9]</td>\n    </tr>\n    <tr>\n      <th>83</th>\n      <td>ORTSGR_KLS9</td>\n      <td>community</td>\n      <td>ordinal</td>\n      <td>[-1, 0]</td>\n    </tr>\n    <tr>\n      <th>84</th>\n      <td>RELAT_AB</td>\n      <td>community</td>\n      <td>ordinal</td>\n      <td>[-1, 9]</td>\n    </tr>\n  </tbody>\n</table>\n</div>"
     },
     "metadata": {}
    }
   ],
   "source": [
    "def parse_str(input_str:str):\n",
    "    \n",
    "    # Remove [ from the string\n",
    "    output_str = input_str.replace('[', '')\n",
    "    \n",
    "    # Remove ] from the string\n",
    "    output_str = output_str.replace(']', '')\n",
    "    \n",
    "    # Remove ' ' from the string\n",
    "    output_str = output_str.replace(' ', '')\n",
    "    \n",
    "    # Split the string by , this provides an array of string as output\n",
    "    output_str =  output_str.split(',')\n",
    "\n",
    "    # Check if the output is not an array of an empty string\n",
    "    if output_str != ['']:\n",
    "        \n",
    "        #Iterate over each string in the array\n",
    "        for ind, out in enumerate(output_str):\n",
    "\n",
    "            # Check if the string has number, i.e., whether it should not be 'X' or 'XX'\n",
    "            # Then, this means that it is a number, so parse it to integer\n",
    "            if out != 'XX' and out != 'X':\n",
    "                output_str[ind] = int(out)\n",
    "    else:\n",
    "        output_str = [np.nan]\n",
    "    return output_str\n",
    "\n",
    "# apply the previously implemented function of the missin_or_unknown column\n",
    "# in the feat_info data frame\n",
    "feat_info.missing_or_unknown = feat_info.missing_or_unknown.apply(parse_str)\n",
    "display(feat_info)"
   ]
  },
  {
   "cell_type": "markdown",
   "metadata": {},
   "source": [
    "\n",
    "> **Tip**: Add additional cells to keep everything in reasonably-sized chunks! Keyboard shortcut `esc --> a` (press escape to enter command mode, then press the 'A' key) adds a new cell before the active cell, and `esc --> b` adds a new cell after the active cell. If you need to convert an active cell to a markdown cell, use `esc --> m` and to convert to a code cell, use `esc --> y`. \n",
    "\n",
    "## Step 1: Preprocessing\n",
    "\n",
    "### Step 1.1: Assess Missing Data\n",
    "\n",
    "The feature summary file contains a summary of properties for each demographics data column. You will use this file to help you make cleaning decisions during this stage of the project. First of all, you should assess the demographics data in terms of missing data. Pay attention to the following points as you perform your analysis, and take notes on what you observe. Make sure that you fill in the **Discussion** cell with your findings and decisions at the end of each step that has one!\n",
    "\n",
    "#### Step 1.1.1: Convert Missing Value Codes to NaNs\n",
    "The fourth column of the feature attributes summary (loaded in above as `feat_info`) documents the codes from the data dictionary that indicate missing or unknown data. While the file encodes this as a list (e.g. `[-1,0]`), this will get read in as a string object. You'll need to do a little bit of parsing to make use of it to identify and clean the data. Convert data that matches a 'missing' or 'unknown' value code into a numpy NaN value. You might want to see how much data takes on a 'missing' or 'unknown' code, and how much data is naturally missing, as a point of interest.\n",
    "\n",
    "**As one more reminder, you are encouraged to add additional cells to break up your analysis into manageable chunks.**"
   ]
  },
  {
   "cell_type": "code",
   "execution_count": 60,
   "metadata": {},
   "outputs": [],
   "source": [
    "for i in range(0, len(feat_info)):\n",
    "    col_name = feat_info.iloc[i]['attribute']\n",
    "    col_miss_values = feat_info.iloc[i]['missing_or_unknown']\n",
    "    maps = {}\n",
    "    for val in col_miss_values:\n",
    "        if val != '' and val != np.nan:\n",
    "            maps[val] = np.nan\n",
    "    azdias[col_name].replace(maps, inplace = True)"
   ]
  },
  {
   "cell_type": "markdown",
   "metadata": {},
   "source": [
    "#### Step 1.1.2: Assess Missing Data in Each Column\n",
    "\n",
    "How much missing data is present in each column? There are a few columns that are outliers in terms of the proportion of values that are missing. You will want to use matplotlib's [`hist()`](https://matplotlib.org/api/_as_gen/matplotlib.pyplot.hist.html) function to visualize the distribution of missing value counts to find these columns. Identify and document these columns. While some of these columns might have justifications for keeping or re-encoding the data, for this project you should just remove them from the dataframe. (Feel free to make remarks about these outlier columns in the discussion, however!)\n",
    "\n",
    "For the remaining features, are there any patterns in which columns have, or share, missing data?"
   ]
  },
  {
   "cell_type": "code",
   "execution_count": 61,
   "metadata": {},
   "outputs": [],
   "source": [
    "# Perform an assessment of how much missing data there is in each column of the\n",
    "# dataset.\n",
    "# Compute the percentage of missing values in each column\n",
    "missing_vals_pct = azdias.isnull().sum().sort_values(ascending = False)*100/len(azdias)"
   ]
  },
  {
   "cell_type": "code",
   "execution_count": 62,
   "metadata": {},
   "outputs": [
    {
     "output_type": "display_data",
     "data": {
      "text/plain": "TITEL_KZ                 99.757636\nAGER_TYP                 76.955435\nKK_KUNDENTYP             65.596749\nKBA05_BAUMAX             53.468668\nGEBURTSJAHR              44.020282\nALTER_HH                 34.813699\nKKK                      17.735668\nREGIOTYP                 17.735668\nW_KEIT_KIND_HH           16.605084\nKBA05_ANTG1              14.959701\nKBA05_ANTG2              14.959701\nKBA05_ANTG3              14.959701\nKBA05_ANTG4              14.959701\nKBA05_GBZ                14.959701\nMOBI_REGIO               14.959701\nPLZ8_ANTG3               13.073637\nPLZ8_ANTG2               13.073637\nPLZ8_GBZ                 13.073637\nPLZ8_HHZ                 13.073637\nPLZ8_ANTG1               13.073637\nPLZ8_BAUMAX              13.073637\nPLZ8_ANTG4               13.073637\nVERS_TYP                 12.476816\nHEALTH_TYP               12.476816\nSHOPPER_TYP              12.476816\nNATIONALITAET_KZ         12.153551\nPRAEGENDE_JUGENDJAHRE    12.136608\nKBA13_ANZAHL_PKW         11.871354\nANZ_HAUSHALTE_AKTIV      11.176913\nCAMEO_INTL_2015          11.147852\nCAMEO_DEU_2015           11.147852\nCAMEO_DEUG_2015          11.147852\nLP_LEBENSPHASE_FEIN      10.954859\nARBEIT                   10.926022\nRELAT_AB                 10.926022\nORTSGR_KLS9              10.914689\nANZ_HH_TITEL             10.884842\nLP_LEBENSPHASE_GROB      10.611509\nINNENSTADT               10.518154\nEWDICHTE                 10.518154\nBALLRAUM                 10.518154\nGEBAEUDETYP_RASTER       10.452514\nWOHNLAGE                 10.451729\nOST_WEST_KZ              10.451729\nMIN_GEBAEUDEJAHR         10.451729\nGEBAEUDETYP              10.451729\nLP_FAMILIE_FEIN           8.728699\nLP_FAMILIE_GROB           8.728699\nKONSUMNAEHE               8.299737\nWOHNDAUER_2008            8.247000\nSOHO_KZ                   8.247000\nANZ_TITEL                 8.247000\nANZ_PERSONEN              8.247000\nHH_EINKOMMEN_SCORE        2.058749\nGFK_URLAUBERTYP           0.544646\nCJT_GESAMTTYP             0.544646\nLP_STATUS_FEIN            0.544646\nLP_STATUS_GROB            0.544646\nRETOURTYP_BK_S            0.544646\nONLINE_AFFINITAET         0.544646\nALTERSKATEGORIE_GROB      0.323264\nFINANZ_UNAUFFAELLIGER     0.000000\nFINANZTYP                 0.000000\nFINANZ_HAUSBAUER          0.000000\nGREEN_AVANTGARDE          0.000000\nFINANZ_SPARER             0.000000\nFINANZ_MINIMALIST         0.000000\nFINANZ_VORSORGER          0.000000\nFINANZ_ANLEGER            0.000000\nANREDE_KZ                 0.000000\nSEMIO_KAEM                0.000000\nSEMIO_SOZ                 0.000000\nSEMIO_PFLICHT             0.000000\nSEMIO_FAM                 0.000000\nSEMIO_REL                 0.000000\nSEMIO_MAT                 0.000000\nSEMIO_VERT                0.000000\nSEMIO_LUST                0.000000\nSEMIO_ERL                 0.000000\nSEMIO_KULT                0.000000\nSEMIO_RAT                 0.000000\nSEMIO_KRIT                0.000000\nSEMIO_DOM                 0.000000\nSEMIO_TRADV               0.000000\nZABEOTYP                  0.000000\ndtype: float64"
     },
     "metadata": {}
    }
   ],
   "source": [
    "display(missing_vals_pct)"
   ]
  },
  {
   "cell_type": "code",
   "execution_count": 63,
   "metadata": {},
   "outputs": [
    {
     "output_type": "execute_result",
     "data": {
      "text/plain": [
       "<matplotlib.axes._subplots.AxesSubplot at 0x2420f19c708>"
      ]
     },
     "metadata": {},
     "execution_count": 63
    },
    {
     "output_type": "display_data",
     "data": {
      "text/plain": "<Figure size 432x288 with 1 Axes>",
      "image/svg+xml": "<?xml version=\"1.0\" encoding=\"utf-8\" standalone=\"no\"?>\r\n<!DOCTYPE svg PUBLIC \"-//W3C//DTD SVG 1.1//EN\"\r\n  \"http://www.w3.org/Graphics/SVG/1.1/DTD/svg11.dtd\">\r\n<!-- Created with matplotlib (https://matplotlib.org/) -->\r\n<svg height=\"248.518125pt\" version=\"1.1\" viewBox=\"0 0 368.925 248.518125\" width=\"368.925pt\" xmlns=\"http://www.w3.org/2000/svg\" xmlns:xlink=\"http://www.w3.org/1999/xlink\">\r\n <defs>\r\n  <style type=\"text/css\">\r\n*{stroke-linecap:butt;stroke-linejoin:round;white-space:pre;}\r\n  </style>\r\n </defs>\r\n <g id=\"figure_1\">\r\n  <g id=\"patch_1\">\r\n   <path d=\"M -0 248.518125 \r\nL 368.925 248.518125 \r\nL 368.925 0 \r\nL -0 0 \r\nz\r\n\" style=\"fill:none;\"/>\r\n  </g>\r\n  <g id=\"axes_1\">\r\n   <g id=\"patch_2\">\r\n    <path d=\"M 26.925 224.64 \r\nL 361.725 224.64 \r\nL 361.725 7.2 \r\nL 26.925 7.2 \r\nz\r\n\" style=\"fill:#ffffff;\"/>\r\n   </g>\r\n   <g id=\"patch_3\">\r\n    <path clip-path=\"url(#pe762e9fba8)\" d=\"M 42.143182 224.64 \r\nL 72.579545 224.64 \r\nL 72.579545 22.731429 \r\nL 42.143182 22.731429 \r\nz\r\n\" style=\"fill:#1f77b4;\"/>\r\n   </g>\r\n   <g id=\"patch_4\">\r\n    <path clip-path=\"url(#pe762e9fba8)\" d=\"M 72.579545 224.64 \r\nL 103.015909 224.64 \r\nL 103.015909 17.554286 \r\nL 72.579545 17.554286 \r\nz\r\n\" style=\"fill:#1f77b4;\"/>\r\n   </g>\r\n   <g id=\"patch_5\">\r\n    <path clip-path=\"url(#pe762e9fba8)\" d=\"M 103.015909 224.64 \r\nL 133.452273 224.64 \r\nL 133.452273 224.64 \r\nL 103.015909 224.64 \r\nz\r\n\" style=\"fill:#1f77b4;\"/>\r\n   </g>\r\n   <g id=\"patch_6\">\r\n    <path clip-path=\"url(#pe762e9fba8)\" d=\"M 133.452273 224.64 \r\nL 163.888636 224.64 \r\nL 163.888636 219.462857 \r\nL 133.452273 219.462857 \r\nz\r\n\" style=\"fill:#1f77b4;\"/>\r\n   </g>\r\n   <g id=\"patch_7\">\r\n    <path clip-path=\"url(#pe762e9fba8)\" d=\"M 163.888636 224.64 \r\nL 194.325 224.64 \r\nL 194.325 219.462857 \r\nL 163.888636 219.462857 \r\nz\r\n\" style=\"fill:#1f77b4;\"/>\r\n   </g>\r\n   <g id=\"patch_8\">\r\n    <path clip-path=\"url(#pe762e9fba8)\" d=\"M 194.325 224.64 \r\nL 224.761364 224.64 \r\nL 224.761364 219.462857 \r\nL 194.325 219.462857 \r\nz\r\n\" style=\"fill:#1f77b4;\"/>\r\n   </g>\r\n   <g id=\"patch_9\">\r\n    <path clip-path=\"url(#pe762e9fba8)\" d=\"M 224.761364 224.64 \r\nL 255.197727 224.64 \r\nL 255.197727 219.462857 \r\nL 224.761364 219.462857 \r\nz\r\n\" style=\"fill:#1f77b4;\"/>\r\n   </g>\r\n   <g id=\"patch_10\">\r\n    <path clip-path=\"url(#pe762e9fba8)\" d=\"M 255.197727 224.64 \r\nL 285.634091 224.64 \r\nL 285.634091 219.462857 \r\nL 255.197727 219.462857 \r\nz\r\n\" style=\"fill:#1f77b4;\"/>\r\n   </g>\r\n   <g id=\"patch_11\">\r\n    <path clip-path=\"url(#pe762e9fba8)\" d=\"M 285.634091 224.64 \r\nL 316.070455 224.64 \r\nL 316.070455 224.64 \r\nL 285.634091 224.64 \r\nz\r\n\" style=\"fill:#1f77b4;\"/>\r\n   </g>\r\n   <g id=\"patch_12\">\r\n    <path clip-path=\"url(#pe762e9fba8)\" d=\"M 316.070455 224.64 \r\nL 346.506818 224.64 \r\nL 346.506818 219.462857 \r\nL 316.070455 219.462857 \r\nz\r\n\" style=\"fill:#1f77b4;\"/>\r\n   </g>\r\n   <g id=\"matplotlib.axis_1\">\r\n    <g id=\"xtick_1\">\r\n     <g id=\"line2d_1\">\r\n      <path clip-path=\"url(#pe762e9fba8)\" d=\"M 42.143182 224.64 \r\nL 42.143182 7.2 \r\n\" style=\"fill:none;stroke:#b0b0b0;stroke-linecap:square;stroke-width:0.8;\"/>\r\n     </g>\r\n     <g id=\"line2d_2\">\r\n      <defs>\r\n       <path d=\"M 0 0 \r\nL 0 3.5 \r\n\" id=\"m95af4d5555\" style=\"stroke:#000000;stroke-width:0.8;\"/>\r\n      </defs>\r\n      <g>\r\n       <use style=\"stroke:#000000;stroke-width:0.8;\" x=\"42.143182\" xlink:href=\"#m95af4d5555\" y=\"224.64\"/>\r\n      </g>\r\n     </g>\r\n     <g id=\"text_1\">\r\n      <!-- 0 -->\r\n      <defs>\r\n       <path d=\"M 31.78125 66.40625 \r\nQ 24.171875 66.40625 20.328125 58.90625 \r\nQ 16.5 51.421875 16.5 36.375 \r\nQ 16.5 21.390625 20.328125 13.890625 \r\nQ 24.171875 6.390625 31.78125 6.390625 \r\nQ 39.453125 6.390625 43.28125 13.890625 \r\nQ 47.125 21.390625 47.125 36.375 \r\nQ 47.125 51.421875 43.28125 58.90625 \r\nQ 39.453125 66.40625 31.78125 66.40625 \r\nz\r\nM 31.78125 74.21875 \r\nQ 44.046875 74.21875 50.515625 64.515625 \r\nQ 56.984375 54.828125 56.984375 36.375 \r\nQ 56.984375 17.96875 50.515625 8.265625 \r\nQ 44.046875 -1.421875 31.78125 -1.421875 \r\nQ 19.53125 -1.421875 13.0625 8.265625 \r\nQ 6.59375 17.96875 6.59375 36.375 \r\nQ 6.59375 54.828125 13.0625 64.515625 \r\nQ 19.53125 74.21875 31.78125 74.21875 \r\nz\r\n\" id=\"DejaVuSans-48\"/>\r\n      </defs>\r\n      <g transform=\"translate(38.961932 239.238437)scale(0.1 -0.1)\">\r\n       <use xlink:href=\"#DejaVuSans-48\"/>\r\n      </g>\r\n     </g>\r\n    </g>\r\n    <g id=\"xtick_2\">\r\n     <g id=\"line2d_3\">\r\n      <path clip-path=\"url(#pe762e9fba8)\" d=\"M 103.163801 224.64 \r\nL 103.163801 7.2 \r\n\" style=\"fill:none;stroke:#b0b0b0;stroke-linecap:square;stroke-width:0.8;\"/>\r\n     </g>\r\n     <g id=\"line2d_4\">\r\n      <g>\r\n       <use style=\"stroke:#000000;stroke-width:0.8;\" x=\"103.163801\" xlink:href=\"#m95af4d5555\" y=\"224.64\"/>\r\n      </g>\r\n     </g>\r\n     <g id=\"text_2\">\r\n      <!-- 20 -->\r\n      <defs>\r\n       <path d=\"M 19.1875 8.296875 \r\nL 53.609375 8.296875 \r\nL 53.609375 0 \r\nL 7.328125 0 \r\nL 7.328125 8.296875 \r\nQ 12.9375 14.109375 22.625 23.890625 \r\nQ 32.328125 33.6875 34.8125 36.53125 \r\nQ 39.546875 41.84375 41.421875 45.53125 \r\nQ 43.3125 49.21875 43.3125 52.78125 \r\nQ 43.3125 58.59375 39.234375 62.25 \r\nQ 35.15625 65.921875 28.609375 65.921875 \r\nQ 23.96875 65.921875 18.8125 64.3125 \r\nQ 13.671875 62.703125 7.8125 59.421875 \r\nL 7.8125 69.390625 \r\nQ 13.765625 71.78125 18.9375 73 \r\nQ 24.125 74.21875 28.421875 74.21875 \r\nQ 39.75 74.21875 46.484375 68.546875 \r\nQ 53.21875 62.890625 53.21875 53.421875 \r\nQ 53.21875 48.921875 51.53125 44.890625 \r\nQ 49.859375 40.875 45.40625 35.40625 \r\nQ 44.1875 33.984375 37.640625 27.21875 \r\nQ 31.109375 20.453125 19.1875 8.296875 \r\nz\r\n\" id=\"DejaVuSans-50\"/>\r\n      </defs>\r\n      <g transform=\"translate(96.801301 239.238437)scale(0.1 -0.1)\">\r\n       <use xlink:href=\"#DejaVuSans-50\"/>\r\n       <use x=\"63.623047\" xlink:href=\"#DejaVuSans-48\"/>\r\n      </g>\r\n     </g>\r\n    </g>\r\n    <g id=\"xtick_3\">\r\n     <g id=\"line2d_5\">\r\n      <path clip-path=\"url(#pe762e9fba8)\" d=\"M 164.184421 224.64 \r\nL 164.184421 7.2 \r\n\" style=\"fill:none;stroke:#b0b0b0;stroke-linecap:square;stroke-width:0.8;\"/>\r\n     </g>\r\n     <g id=\"line2d_6\">\r\n      <g>\r\n       <use style=\"stroke:#000000;stroke-width:0.8;\" x=\"164.184421\" xlink:href=\"#m95af4d5555\" y=\"224.64\"/>\r\n      </g>\r\n     </g>\r\n     <g id=\"text_3\">\r\n      <!-- 40 -->\r\n      <defs>\r\n       <path d=\"M 37.796875 64.3125 \r\nL 12.890625 25.390625 \r\nL 37.796875 25.390625 \r\nz\r\nM 35.203125 72.90625 \r\nL 47.609375 72.90625 \r\nL 47.609375 25.390625 \r\nL 58.015625 25.390625 \r\nL 58.015625 17.1875 \r\nL 47.609375 17.1875 \r\nL 47.609375 0 \r\nL 37.796875 0 \r\nL 37.796875 17.1875 \r\nL 4.890625 17.1875 \r\nL 4.890625 26.703125 \r\nz\r\n\" id=\"DejaVuSans-52\"/>\r\n      </defs>\r\n      <g transform=\"translate(157.821921 239.238437)scale(0.1 -0.1)\">\r\n       <use xlink:href=\"#DejaVuSans-52\"/>\r\n       <use x=\"63.623047\" xlink:href=\"#DejaVuSans-48\"/>\r\n      </g>\r\n     </g>\r\n    </g>\r\n    <g id=\"xtick_4\">\r\n     <g id=\"line2d_7\">\r\n      <path clip-path=\"url(#pe762e9fba8)\" d=\"M 225.20504 224.64 \r\nL 225.20504 7.2 \r\n\" style=\"fill:none;stroke:#b0b0b0;stroke-linecap:square;stroke-width:0.8;\"/>\r\n     </g>\r\n     <g id=\"line2d_8\">\r\n      <g>\r\n       <use style=\"stroke:#000000;stroke-width:0.8;\" x=\"225.20504\" xlink:href=\"#m95af4d5555\" y=\"224.64\"/>\r\n      </g>\r\n     </g>\r\n     <g id=\"text_4\">\r\n      <!-- 60 -->\r\n      <defs>\r\n       <path d=\"M 33.015625 40.375 \r\nQ 26.375 40.375 22.484375 35.828125 \r\nQ 18.609375 31.296875 18.609375 23.390625 \r\nQ 18.609375 15.53125 22.484375 10.953125 \r\nQ 26.375 6.390625 33.015625 6.390625 \r\nQ 39.65625 6.390625 43.53125 10.953125 \r\nQ 47.40625 15.53125 47.40625 23.390625 \r\nQ 47.40625 31.296875 43.53125 35.828125 \r\nQ 39.65625 40.375 33.015625 40.375 \r\nz\r\nM 52.59375 71.296875 \r\nL 52.59375 62.3125 \r\nQ 48.875 64.0625 45.09375 64.984375 \r\nQ 41.3125 65.921875 37.59375 65.921875 \r\nQ 27.828125 65.921875 22.671875 59.328125 \r\nQ 17.53125 52.734375 16.796875 39.40625 \r\nQ 19.671875 43.65625 24.015625 45.921875 \r\nQ 28.375 48.1875 33.59375 48.1875 \r\nQ 44.578125 48.1875 50.953125 41.515625 \r\nQ 57.328125 34.859375 57.328125 23.390625 \r\nQ 57.328125 12.15625 50.6875 5.359375 \r\nQ 44.046875 -1.421875 33.015625 -1.421875 \r\nQ 20.359375 -1.421875 13.671875 8.265625 \r\nQ 6.984375 17.96875 6.984375 36.375 \r\nQ 6.984375 53.65625 15.1875 63.9375 \r\nQ 23.390625 74.21875 37.203125 74.21875 \r\nQ 40.921875 74.21875 44.703125 73.484375 \r\nQ 48.484375 72.75 52.59375 71.296875 \r\nz\r\n\" id=\"DejaVuSans-54\"/>\r\n      </defs>\r\n      <g transform=\"translate(218.84254 239.238437)scale(0.1 -0.1)\">\r\n       <use xlink:href=\"#DejaVuSans-54\"/>\r\n       <use x=\"63.623047\" xlink:href=\"#DejaVuSans-48\"/>\r\n      </g>\r\n     </g>\r\n    </g>\r\n    <g id=\"xtick_5\">\r\n     <g id=\"line2d_9\">\r\n      <path clip-path=\"url(#pe762e9fba8)\" d=\"M 286.225659 224.64 \r\nL 286.225659 7.2 \r\n\" style=\"fill:none;stroke:#b0b0b0;stroke-linecap:square;stroke-width:0.8;\"/>\r\n     </g>\r\n     <g id=\"line2d_10\">\r\n      <g>\r\n       <use style=\"stroke:#000000;stroke-width:0.8;\" x=\"286.225659\" xlink:href=\"#m95af4d5555\" y=\"224.64\"/>\r\n      </g>\r\n     </g>\r\n     <g id=\"text_5\">\r\n      <!-- 80 -->\r\n      <defs>\r\n       <path d=\"M 31.78125 34.625 \r\nQ 24.75 34.625 20.71875 30.859375 \r\nQ 16.703125 27.09375 16.703125 20.515625 \r\nQ 16.703125 13.921875 20.71875 10.15625 \r\nQ 24.75 6.390625 31.78125 6.390625 \r\nQ 38.8125 6.390625 42.859375 10.171875 \r\nQ 46.921875 13.96875 46.921875 20.515625 \r\nQ 46.921875 27.09375 42.890625 30.859375 \r\nQ 38.875 34.625 31.78125 34.625 \r\nz\r\nM 21.921875 38.8125 \r\nQ 15.578125 40.375 12.03125 44.71875 \r\nQ 8.5 49.078125 8.5 55.328125 \r\nQ 8.5 64.0625 14.71875 69.140625 \r\nQ 20.953125 74.21875 31.78125 74.21875 \r\nQ 42.671875 74.21875 48.875 69.140625 \r\nQ 55.078125 64.0625 55.078125 55.328125 \r\nQ 55.078125 49.078125 51.53125 44.71875 \r\nQ 48 40.375 41.703125 38.8125 \r\nQ 48.828125 37.15625 52.796875 32.3125 \r\nQ 56.78125 27.484375 56.78125 20.515625 \r\nQ 56.78125 9.90625 50.3125 4.234375 \r\nQ 43.84375 -1.421875 31.78125 -1.421875 \r\nQ 19.734375 -1.421875 13.25 4.234375 \r\nQ 6.78125 9.90625 6.78125 20.515625 \r\nQ 6.78125 27.484375 10.78125 32.3125 \r\nQ 14.796875 37.15625 21.921875 38.8125 \r\nz\r\nM 18.3125 54.390625 \r\nQ 18.3125 48.734375 21.84375 45.5625 \r\nQ 25.390625 42.390625 31.78125 42.390625 \r\nQ 38.140625 42.390625 41.71875 45.5625 \r\nQ 45.3125 48.734375 45.3125 54.390625 \r\nQ 45.3125 60.0625 41.71875 63.234375 \r\nQ 38.140625 66.40625 31.78125 66.40625 \r\nQ 25.390625 66.40625 21.84375 63.234375 \r\nQ 18.3125 60.0625 18.3125 54.390625 \r\nz\r\n\" id=\"DejaVuSans-56\"/>\r\n      </defs>\r\n      <g transform=\"translate(279.863159 239.238437)scale(0.1 -0.1)\">\r\n       <use xlink:href=\"#DejaVuSans-56\"/>\r\n       <use x=\"63.623047\" xlink:href=\"#DejaVuSans-48\"/>\r\n      </g>\r\n     </g>\r\n    </g>\r\n    <g id=\"xtick_6\">\r\n     <g id=\"line2d_11\">\r\n      <path clip-path=\"url(#pe762e9fba8)\" d=\"M 347.246279 224.64 \r\nL 347.246279 7.2 \r\n\" style=\"fill:none;stroke:#b0b0b0;stroke-linecap:square;stroke-width:0.8;\"/>\r\n     </g>\r\n     <g id=\"line2d_12\">\r\n      <g>\r\n       <use style=\"stroke:#000000;stroke-width:0.8;\" x=\"347.246279\" xlink:href=\"#m95af4d5555\" y=\"224.64\"/>\r\n      </g>\r\n     </g>\r\n     <g id=\"text_6\">\r\n      <!-- 100 -->\r\n      <defs>\r\n       <path d=\"M 12.40625 8.296875 \r\nL 28.515625 8.296875 \r\nL 28.515625 63.921875 \r\nL 10.984375 60.40625 \r\nL 10.984375 69.390625 \r\nL 28.421875 72.90625 \r\nL 38.28125 72.90625 \r\nL 38.28125 8.296875 \r\nL 54.390625 8.296875 \r\nL 54.390625 0 \r\nL 12.40625 0 \r\nz\r\n\" id=\"DejaVuSans-49\"/>\r\n      </defs>\r\n      <g transform=\"translate(337.702529 239.238437)scale(0.1 -0.1)\">\r\n       <use xlink:href=\"#DejaVuSans-49\"/>\r\n       <use x=\"63.623047\" xlink:href=\"#DejaVuSans-48\"/>\r\n       <use x=\"127.246094\" xlink:href=\"#DejaVuSans-48\"/>\r\n      </g>\r\n     </g>\r\n    </g>\r\n   </g>\r\n   <g id=\"matplotlib.axis_2\">\r\n    <g id=\"ytick_1\">\r\n     <g id=\"line2d_13\">\r\n      <path clip-path=\"url(#pe762e9fba8)\" d=\"M 26.925 224.64 \r\nL 361.725 224.64 \r\n\" style=\"fill:none;stroke:#b0b0b0;stroke-linecap:square;stroke-width:0.8;\"/>\r\n     </g>\r\n     <g id=\"line2d_14\">\r\n      <defs>\r\n       <path d=\"M 0 0 \r\nL -3.5 0 \r\n\" id=\"mb67d6c2979\" style=\"stroke:#000000;stroke-width:0.8;\"/>\r\n      </defs>\r\n      <g>\r\n       <use style=\"stroke:#000000;stroke-width:0.8;\" x=\"26.925\" xlink:href=\"#mb67d6c2979\" y=\"224.64\"/>\r\n      </g>\r\n     </g>\r\n     <g id=\"text_7\">\r\n      <!-- 0 -->\r\n      <g transform=\"translate(13.5625 228.439219)scale(0.1 -0.1)\">\r\n       <use xlink:href=\"#DejaVuSans-48\"/>\r\n      </g>\r\n     </g>\r\n    </g>\r\n    <g id=\"ytick_2\">\r\n     <g id=\"line2d_15\">\r\n      <path clip-path=\"url(#pe762e9fba8)\" d=\"M 26.925 198.754286 \r\nL 361.725 198.754286 \r\n\" style=\"fill:none;stroke:#b0b0b0;stroke-linecap:square;stroke-width:0.8;\"/>\r\n     </g>\r\n     <g id=\"line2d_16\">\r\n      <g>\r\n       <use style=\"stroke:#000000;stroke-width:0.8;\" x=\"26.925\" xlink:href=\"#mb67d6c2979\" y=\"198.754286\"/>\r\n      </g>\r\n     </g>\r\n     <g id=\"text_8\">\r\n      <!-- 5 -->\r\n      <defs>\r\n       <path d=\"M 10.796875 72.90625 \r\nL 49.515625 72.90625 \r\nL 49.515625 64.59375 \r\nL 19.828125 64.59375 \r\nL 19.828125 46.734375 \r\nQ 21.96875 47.46875 24.109375 47.828125 \r\nQ 26.265625 48.1875 28.421875 48.1875 \r\nQ 40.625 48.1875 47.75 41.5 \r\nQ 54.890625 34.8125 54.890625 23.390625 \r\nQ 54.890625 11.625 47.5625 5.09375 \r\nQ 40.234375 -1.421875 26.90625 -1.421875 \r\nQ 22.3125 -1.421875 17.546875 -0.640625 \r\nQ 12.796875 0.140625 7.71875 1.703125 \r\nL 7.71875 11.625 \r\nQ 12.109375 9.234375 16.796875 8.0625 \r\nQ 21.484375 6.890625 26.703125 6.890625 \r\nQ 35.15625 6.890625 40.078125 11.328125 \r\nQ 45.015625 15.765625 45.015625 23.390625 \r\nQ 45.015625 31 40.078125 35.4375 \r\nQ 35.15625 39.890625 26.703125 39.890625 \r\nQ 22.75 39.890625 18.8125 39.015625 \r\nQ 14.890625 38.140625 10.796875 36.28125 \r\nz\r\n\" id=\"DejaVuSans-53\"/>\r\n      </defs>\r\n      <g transform=\"translate(13.5625 202.553504)scale(0.1 -0.1)\">\r\n       <use xlink:href=\"#DejaVuSans-53\"/>\r\n      </g>\r\n     </g>\r\n    </g>\r\n    <g id=\"ytick_3\">\r\n     <g id=\"line2d_17\">\r\n      <path clip-path=\"url(#pe762e9fba8)\" d=\"M 26.925 172.868571 \r\nL 361.725 172.868571 \r\n\" style=\"fill:none;stroke:#b0b0b0;stroke-linecap:square;stroke-width:0.8;\"/>\r\n     </g>\r\n     <g id=\"line2d_18\">\r\n      <g>\r\n       <use style=\"stroke:#000000;stroke-width:0.8;\" x=\"26.925\" xlink:href=\"#mb67d6c2979\" y=\"172.868571\"/>\r\n      </g>\r\n     </g>\r\n     <g id=\"text_9\">\r\n      <!-- 10 -->\r\n      <g transform=\"translate(7.2 176.66779)scale(0.1 -0.1)\">\r\n       <use xlink:href=\"#DejaVuSans-49\"/>\r\n       <use x=\"63.623047\" xlink:href=\"#DejaVuSans-48\"/>\r\n      </g>\r\n     </g>\r\n    </g>\r\n    <g id=\"ytick_4\">\r\n     <g id=\"line2d_19\">\r\n      <path clip-path=\"url(#pe762e9fba8)\" d=\"M 26.925 146.982857 \r\nL 361.725 146.982857 \r\n\" style=\"fill:none;stroke:#b0b0b0;stroke-linecap:square;stroke-width:0.8;\"/>\r\n     </g>\r\n     <g id=\"line2d_20\">\r\n      <g>\r\n       <use style=\"stroke:#000000;stroke-width:0.8;\" x=\"26.925\" xlink:href=\"#mb67d6c2979\" y=\"146.982857\"/>\r\n      </g>\r\n     </g>\r\n     <g id=\"text_10\">\r\n      <!-- 15 -->\r\n      <g transform=\"translate(7.2 150.782076)scale(0.1 -0.1)\">\r\n       <use xlink:href=\"#DejaVuSans-49\"/>\r\n       <use x=\"63.623047\" xlink:href=\"#DejaVuSans-53\"/>\r\n      </g>\r\n     </g>\r\n    </g>\r\n    <g id=\"ytick_5\">\r\n     <g id=\"line2d_21\">\r\n      <path clip-path=\"url(#pe762e9fba8)\" d=\"M 26.925 121.097143 \r\nL 361.725 121.097143 \r\n\" style=\"fill:none;stroke:#b0b0b0;stroke-linecap:square;stroke-width:0.8;\"/>\r\n     </g>\r\n     <g id=\"line2d_22\">\r\n      <g>\r\n       <use style=\"stroke:#000000;stroke-width:0.8;\" x=\"26.925\" xlink:href=\"#mb67d6c2979\" y=\"121.097143\"/>\r\n      </g>\r\n     </g>\r\n     <g id=\"text_11\">\r\n      <!-- 20 -->\r\n      <g transform=\"translate(7.2 124.896362)scale(0.1 -0.1)\">\r\n       <use xlink:href=\"#DejaVuSans-50\"/>\r\n       <use x=\"63.623047\" xlink:href=\"#DejaVuSans-48\"/>\r\n      </g>\r\n     </g>\r\n    </g>\r\n    <g id=\"ytick_6\">\r\n     <g id=\"line2d_23\">\r\n      <path clip-path=\"url(#pe762e9fba8)\" d=\"M 26.925 95.211429 \r\nL 361.725 95.211429 \r\n\" style=\"fill:none;stroke:#b0b0b0;stroke-linecap:square;stroke-width:0.8;\"/>\r\n     </g>\r\n     <g id=\"line2d_24\">\r\n      <g>\r\n       <use style=\"stroke:#000000;stroke-width:0.8;\" x=\"26.925\" xlink:href=\"#mb67d6c2979\" y=\"95.211429\"/>\r\n      </g>\r\n     </g>\r\n     <g id=\"text_12\">\r\n      <!-- 25 -->\r\n      <g transform=\"translate(7.2 99.010647)scale(0.1 -0.1)\">\r\n       <use xlink:href=\"#DejaVuSans-50\"/>\r\n       <use x=\"63.623047\" xlink:href=\"#DejaVuSans-53\"/>\r\n      </g>\r\n     </g>\r\n    </g>\r\n    <g id=\"ytick_7\">\r\n     <g id=\"line2d_25\">\r\n      <path clip-path=\"url(#pe762e9fba8)\" d=\"M 26.925 69.325714 \r\nL 361.725 69.325714 \r\n\" style=\"fill:none;stroke:#b0b0b0;stroke-linecap:square;stroke-width:0.8;\"/>\r\n     </g>\r\n     <g id=\"line2d_26\">\r\n      <g>\r\n       <use style=\"stroke:#000000;stroke-width:0.8;\" x=\"26.925\" xlink:href=\"#mb67d6c2979\" y=\"69.325714\"/>\r\n      </g>\r\n     </g>\r\n     <g id=\"text_13\">\r\n      <!-- 30 -->\r\n      <defs>\r\n       <path d=\"M 40.578125 39.3125 \r\nQ 47.65625 37.796875 51.625 33 \r\nQ 55.609375 28.21875 55.609375 21.1875 \r\nQ 55.609375 10.40625 48.1875 4.484375 \r\nQ 40.765625 -1.421875 27.09375 -1.421875 \r\nQ 22.515625 -1.421875 17.65625 -0.515625 \r\nQ 12.796875 0.390625 7.625 2.203125 \r\nL 7.625 11.71875 \r\nQ 11.71875 9.328125 16.59375 8.109375 \r\nQ 21.484375 6.890625 26.8125 6.890625 \r\nQ 36.078125 6.890625 40.9375 10.546875 \r\nQ 45.796875 14.203125 45.796875 21.1875 \r\nQ 45.796875 27.640625 41.28125 31.265625 \r\nQ 36.765625 34.90625 28.71875 34.90625 \r\nL 20.21875 34.90625 \r\nL 20.21875 43.015625 \r\nL 29.109375 43.015625 \r\nQ 36.375 43.015625 40.234375 45.921875 \r\nQ 44.09375 48.828125 44.09375 54.296875 \r\nQ 44.09375 59.90625 40.109375 62.90625 \r\nQ 36.140625 65.921875 28.71875 65.921875 \r\nQ 24.65625 65.921875 20.015625 65.03125 \r\nQ 15.375 64.15625 9.8125 62.3125 \r\nL 9.8125 71.09375 \r\nQ 15.4375 72.65625 20.34375 73.4375 \r\nQ 25.25 74.21875 29.59375 74.21875 \r\nQ 40.828125 74.21875 47.359375 69.109375 \r\nQ 53.90625 64.015625 53.90625 55.328125 \r\nQ 53.90625 49.265625 50.4375 45.09375 \r\nQ 46.96875 40.921875 40.578125 39.3125 \r\nz\r\n\" id=\"DejaVuSans-51\"/>\r\n      </defs>\r\n      <g transform=\"translate(7.2 73.124933)scale(0.1 -0.1)\">\r\n       <use xlink:href=\"#DejaVuSans-51\"/>\r\n       <use x=\"63.623047\" xlink:href=\"#DejaVuSans-48\"/>\r\n      </g>\r\n     </g>\r\n    </g>\r\n    <g id=\"ytick_8\">\r\n     <g id=\"line2d_27\">\r\n      <path clip-path=\"url(#pe762e9fba8)\" d=\"M 26.925 43.44 \r\nL 361.725 43.44 \r\n\" style=\"fill:none;stroke:#b0b0b0;stroke-linecap:square;stroke-width:0.8;\"/>\r\n     </g>\r\n     <g id=\"line2d_28\">\r\n      <g>\r\n       <use style=\"stroke:#000000;stroke-width:0.8;\" x=\"26.925\" xlink:href=\"#mb67d6c2979\" y=\"43.44\"/>\r\n      </g>\r\n     </g>\r\n     <g id=\"text_14\">\r\n      <!-- 35 -->\r\n      <g transform=\"translate(7.2 47.239219)scale(0.1 -0.1)\">\r\n       <use xlink:href=\"#DejaVuSans-51\"/>\r\n       <use x=\"63.623047\" xlink:href=\"#DejaVuSans-53\"/>\r\n      </g>\r\n     </g>\r\n    </g>\r\n    <g id=\"ytick_9\">\r\n     <g id=\"line2d_29\">\r\n      <path clip-path=\"url(#pe762e9fba8)\" d=\"M 26.925 17.554286 \r\nL 361.725 17.554286 \r\n\" style=\"fill:none;stroke:#b0b0b0;stroke-linecap:square;stroke-width:0.8;\"/>\r\n     </g>\r\n     <g id=\"line2d_30\">\r\n      <g>\r\n       <use style=\"stroke:#000000;stroke-width:0.8;\" x=\"26.925\" xlink:href=\"#mb67d6c2979\" y=\"17.554286\"/>\r\n      </g>\r\n     </g>\r\n     <g id=\"text_15\">\r\n      <!-- 40 -->\r\n      <g transform=\"translate(7.2 21.353504)scale(0.1 -0.1)\">\r\n       <use xlink:href=\"#DejaVuSans-52\"/>\r\n       <use x=\"63.623047\" xlink:href=\"#DejaVuSans-48\"/>\r\n      </g>\r\n     </g>\r\n    </g>\r\n   </g>\r\n   <g id=\"patch_13\">\r\n    <path d=\"M 26.925 224.64 \r\nL 26.925 7.2 \r\n\" style=\"fill:none;stroke:#000000;stroke-linecap:square;stroke-linejoin:miter;stroke-width:0.8;\"/>\r\n   </g>\r\n   <g id=\"patch_14\">\r\n    <path d=\"M 361.725 224.64 \r\nL 361.725 7.2 \r\n\" style=\"fill:none;stroke:#000000;stroke-linecap:square;stroke-linejoin:miter;stroke-width:0.8;\"/>\r\n   </g>\r\n   <g id=\"patch_15\">\r\n    <path d=\"M 26.925 224.64 \r\nL 361.725 224.64 \r\n\" style=\"fill:none;stroke:#000000;stroke-linecap:square;stroke-linejoin:miter;stroke-width:0.8;\"/>\r\n   </g>\r\n   <g id=\"patch_16\">\r\n    <path d=\"M 26.925 7.2 \r\nL 361.725 7.2 \r\n\" style=\"fill:none;stroke:#000000;stroke-linecap:square;stroke-linejoin:miter;stroke-width:0.8;\"/>\r\n   </g>\r\n  </g>\r\n </g>\r\n <defs>\r\n  <clipPath id=\"pe762e9fba8\">\r\n   <rect height=\"217.44\" width=\"334.8\" x=\"26.925\" y=\"7.2\"/>\r\n  </clipPath>\r\n </defs>\r\n</svg>\r\n",
      "image/png": "[encoded data removed]"
     },
     "metadata": {
      "needs_background": "light"
     }
    }
   ],
   "source": [
    "# Investigate patterns in the amount of missing data in each column.\n",
    "missing_vals_pct.hist()\n"
   ]
  },
  {
   "cell_type": "code",
   "execution_count": 64,
   "metadata": {},
   "outputs": [
    {
     "output_type": "stream",
     "name": "stdout",
     "text": [
      "['TITEL_KZ', 'AGER_TYP', 'KK_KUNDENTYP', 'KBA05_BAUMAX', 'GEBURTSJAHR', 'ALTER_HH', 'KKK', 'REGIOTYP', 'W_KEIT_KIND_HH']\n"
     ]
    }
   ],
   "source": [
    "# Remove the outlier columns from the dataset. (You'll perform other data\n",
    "# engineering tasks such as re-encoding and imputation later.)\n",
    "# Drop the columns with missing value percentage greater than a certain\n",
    "# threshold. Here we choose 15%\n",
    "thresh_pct = 15\n",
    "cols_drop = list(missing_vals_pct[missing_vals_pct>thresh_pct].index)\n",
    "print(cols_drop)\n",
    "\n"
   ]
  },
  {
   "cell_type": "code",
   "execution_count": 65,
   "metadata": {},
   "outputs": [
    {
     "output_type": "display_data",
     "data": {
      "text/plain": "<bound method NDFrame.head of         ALTERSKATEGORIE_GROB  ANREDE_KZ  CJT_GESAMTTYP  FINANZ_MINIMALIST  \\\n0                        2.0          1            2.0                  3   \n1                        1.0          2            5.0                  1   \n2                        3.0          2            3.0                  1   \n3                        4.0          2            2.0                  4   \n4                        3.0          1            5.0                  4   \n...                      ...        ...            ...                ...   \n891216                   3.0          2            5.0                  1   \n891217                   2.0          1            4.0                  3   \n891218                   2.0          2            4.0                  2   \n891219                   1.0          1            3.0                  1   \n891220                   4.0          1            1.0                  4   \n\n        FINANZ_SPARER  FINANZ_VORSORGER  FINANZ_ANLEGER  \\\n0                   4                 3               5   \n1                   5                 2               5   \n2                   4                 1               2   \n3                   2                 5               2   \n4                   3                 4               1   \n...               ...               ...             ...   \n891216              4                 2               5   \n891217              3                 3               2   \n891218              4                 2               5   \n891219              5                 3               5   \n891220              2                 5               2   \n\n        FINANZ_UNAUFFAELLIGER  FINANZ_HAUSBAUER  FINANZTYP  GFK_URLAUBERTYP  \\\n0                           5                 3          4             10.0   \n1                           4                 5          1             10.0   \n2                           3                 5          1             10.0   \n3                           1                 2          6              1.0   \n4                           3                 2          5              5.0   \n...                       ...               ...        ...              ...   \n891216                      4                 4          1             12.0   \n891217                      2                 3          6              1.0   \n891218                      4                 3          1             10.0   \n891219                      5                 5          1              9.0   \n891220                      1                 5          6             12.0   \n\n        GREEN_AVANTGARDE  HEALTH_TYP  LP_LEBENSPHASE_FEIN  \\\n0                      0         NaN                 15.0   \n1                      0         3.0                 21.0   \n2                      1         3.0                  3.0   \n3                      0         2.0                  NaN   \n4                      0         3.0                 32.0   \n...                  ...         ...                  ...   \n891216                 0         3.0                  2.0   \n891217                 0         NaN                  2.0   \n891218                 0         1.0                  NaN   \n891219                 0         1.0                 29.0   \n891220                 0         2.0                  6.0   \n\n        LP_LEBENSPHASE_GROB  LP_FAMILIE_FEIN  LP_FAMILIE_GROB  LP_STATUS_FEIN  \\\n0                       4.0              2.0              2.0             1.0   \n1                       6.0              5.0              3.0             2.0   \n2                       1.0              1.0              1.0             3.0   \n3                       NaN              NaN              NaN             9.0   \n4                      10.0             10.0              5.0             3.0   \n...                     ...              ...              ...             ...   \n891216                  1.0              1.0              1.0             2.0   \n891217                  1.0              1.0              1.0             1.0   \n891218                  NaN              NaN              NaN             4.0   \n891219                  9.0              9.0              5.0             2.0   \n891220                  2.0              1.0              1.0             1.0   \n\n        LP_STATUS_GROB  NATIONALITAET_KZ  PRAEGENDE_JUGENDJAHRE  \\\n0                  1.0               NaN                    NaN   \n1                  1.0               1.0                   14.0   \n2                  2.0               1.0                   15.0   \n3                  4.0               1.0                    8.0   \n4                  2.0               1.0                    8.0   \n...                ...               ...                    ...   \n891216             1.0               1.0                   14.0   \n891217             1.0               NaN                   10.0   \n891218             2.0               1.0                   14.0   \n891219             1.0               1.0                   14.0   \n891220             1.0               1.0                    3.0   \n\n        RETOURTYP_BK_S  SEMIO_SOZ  SEMIO_FAM  SEMIO_REL  SEMIO_MAT  \\\n0                  5.0          2          6          7          5   \n1                  1.0          5          4          4          3   \n2                  3.0          4          1          3          3   \n3                  2.0          5          1          2          1   \n4                  5.0          6          4          4          2   \n...                ...        ...        ...        ...        ...   \n891216             3.0          2          1          3          3   \n891217             5.0          4          4          7          5   \n891218             4.0          5          2          5          3   \n891219             4.0          7          7          7          5   \n891220             1.0          6          6          3          4   \n\n        SEMIO_VERT  SEMIO_LUST  SEMIO_ERL  SEMIO_KULT  SEMIO_RAT  SEMIO_KRIT  \\\n0                1           5          3           3          4           7   \n1                1           2          2           3          6           4   \n2                4           4          6           3          4           7   \n3                4           4          7           4          3           4   \n4                7           4          4           6          2           3   \n...            ...         ...        ...         ...        ...         ...   \n891216           2           1          6           3          4           4   \n891217           4           7          7           4          4           4   \n891218           2           3          5           5          7           4   \n891219           6           3          2           7          5           2   \n891220           6           5          3           6          3           3   \n\n        SEMIO_DOM  SEMIO_KAEM  SEMIO_PFLICHT  SEMIO_TRADV  SHOPPER_TYP  \\\n0               6           6              5            3          NaN   \n1               7           4              7            6          3.0   \n2               7           7              3            3          2.0   \n3               4           5              4            4          1.0   \n4               2           2              4            2          2.0   \n...           ...         ...            ...          ...          ...   \n891216          7           5              4            2          3.0   \n891217          4           4              6            2          NaN   \n891218          4           5              6            7          2.0   \n891219          2           2              7            5          0.0   \n891220          3           2              2            2          2.0   \n\n        SOHO_KZ  VERS_TYP  ZABEOTYP  ANZ_PERSONEN  ANZ_TITEL  \\\n0           NaN       NaN         3           NaN        NaN   \n1           1.0       2.0         5           2.0        0.0   \n2           0.0       1.0         5           1.0        0.0   \n3           0.0       1.0         3           0.0        0.0   \n4           0.0       2.0         4           4.0        0.0   \n...         ...       ...       ...           ...        ...   \n891216      0.0       1.0         4           1.0        0.0   \n891217      0.0       NaN         6           1.0        0.0   \n891218      0.0       1.0         4           0.0        0.0   \n891219      0.0       2.0         5           1.0        0.0   \n891220      0.0       1.0         3           1.0        0.0   \n\n        HH_EINKOMMEN_SCORE  WOHNDAUER_2008  ANZ_HAUSHALTE_AKTIV  ANZ_HH_TITEL  \\\n0                      2.0             NaN                  NaN           NaN   \n1                      6.0             9.0                 11.0           0.0   \n2                      4.0             9.0                 10.0           0.0   \n3                      1.0             9.0                  1.0           0.0   \n4                      5.0             9.0                  3.0           0.0   \n...                    ...             ...                  ...           ...   \n891216                 4.0             4.0                 15.0           0.0   \n891217                 6.0             9.0                 11.0           0.0   \n891218                 5.0             5.0                  3.0           0.0   \n891219                 6.0             9.0                  7.0           0.0   \n891220                 5.0             3.0                 10.0           0.0   \n\n        GEBAEUDETYP  KONSUMNAEHE  MIN_GEBAEUDEJAHR OST_WEST_KZ  WOHNLAGE  \\\n0               NaN          NaN               NaN         NaN       NaN   \n1               8.0          1.0            1992.0           W       4.0   \n2               1.0          5.0            1992.0           W       2.0   \n3               1.0          4.0            1997.0           W       7.0   \n4               1.0          4.0            1992.0           W       3.0   \n...             ...          ...               ...         ...       ...   \n891216          8.0          3.0            1992.0           W       3.0   \n891217          8.0          1.0            1992.0           W       5.0   \n891218          8.0          6.0            1992.0           W       7.0   \n891219          8.0          2.0            1992.0           W       5.0   \n891220          8.0          3.0            1992.0           W       4.0   \n\n       CAMEO_DEUG_2015 CAMEO_DEU_2015 CAMEO_INTL_2015  KBA05_ANTG1  \\\n0                  NaN            NaN             NaN          NaN   \n1                    8             8A              51          0.0   \n2                    4             4C              24          1.0   \n3                    2             2A              12          4.0   \n4                    6             6B              43          1.0   \n...                ...            ...             ...          ...   \n891216               7             7A              41          2.0   \n891217               9             9D              51          0.0   \n891218               4             4C              24          1.0   \n891219               9             9D              51          0.0   \n891220               6             6B              43          1.0   \n\n        KBA05_ANTG2  KBA05_ANTG3  KBA05_ANTG4  KBA05_GBZ  BALLRAUM  EWDICHTE  \\\n0               NaN          NaN          NaN        NaN       NaN       NaN   \n1               0.0          0.0          2.0        1.0       6.0       3.0   \n2               3.0          1.0          0.0        3.0       2.0       4.0   \n3               1.0          0.0          0.0        4.0       4.0       2.0   \n4               4.0          1.0          0.0        3.0       2.0       5.0   \n...             ...          ...          ...        ...       ...       ...   \n891216          1.0          0.0          0.0        4.0       6.0       3.0   \n891217          0.0          1.0          1.0        2.0       7.0       6.0   \n891218          3.0          1.0          0.0        3.0       5.0       2.0   \n891219          3.0          2.0          0.0        3.0       2.0       6.0   \n891220          3.0          1.0          1.0        2.0       6.0       2.0   \n\n        INNENSTADT  GEBAEUDETYP_RASTER  MOBI_REGIO  ONLINE_AFFINITAET  \\\n0              NaN                 NaN         NaN                1.0   \n1              8.0                 3.0         1.0                3.0   \n2              4.0                 4.0         3.0                2.0   \n3              6.0                 4.0         4.0                1.0   \n4              1.0                 5.0         3.0                5.0   \n...            ...                 ...         ...                ...   \n891216         7.0                 4.0         5.0                5.0   \n891217         2.0                 3.0         1.0                2.0   \n891218         6.0                 4.0         2.0                3.0   \n891219         4.0                 4.0         1.0                3.0   \n891220         8.0                 4.0         3.0                0.0   \n\n        KBA13_ANZAHL_PKW  PLZ8_ANTG1  PLZ8_ANTG2  PLZ8_ANTG3  PLZ8_ANTG4  \\\n0                    NaN         NaN         NaN         NaN         NaN   \n1                  963.0         2.0         3.0         2.0         1.0   \n2                  712.0         3.0         3.0         1.0         0.0   \n3                  596.0         2.0         2.0         2.0         0.0   \n4                  435.0         2.0         4.0         2.0         1.0   \n...                  ...         ...         ...         ...         ...   \n891216             282.0         3.0         2.0         0.0         0.0   \n891217             592.0         1.0         3.0         3.0         2.0   \n891218             688.0         4.0         2.0         0.0         0.0   \n891219             134.0         1.0         4.0         3.0         1.0   \n891220             728.0         3.0         3.0         1.0         0.0   \n\n        PLZ8_BAUMAX  PLZ8_HHZ  PLZ8_GBZ  ARBEIT  ORTSGR_KLS9  RELAT_AB  \n0               NaN       NaN       NaN     NaN          NaN       NaN  \n1               1.0       5.0       4.0     3.0          5.0       4.0  \n2               1.0       4.0       4.0     3.0          5.0       2.0  \n3               1.0       3.0       4.0     2.0          3.0       3.0  \n4               2.0       3.0       3.0     4.0          6.0       5.0  \n...             ...       ...       ...     ...          ...       ...  \n891216          1.0       2.0       3.0     NaN          NaN       NaN  \n891217          4.0       5.0       3.0     4.0          6.0       5.0  \n891218          1.0       3.0       4.0     2.0          2.0       3.0  \n891219          5.0       1.0       1.0     4.0          7.0       5.0  \n891220          1.0       4.0       4.0     3.0          4.0       5.0  \n\n[891221 rows x 76 columns]>"
     },
     "metadata": {}
    }
   ],
   "source": [
    "azdias.drop(columns = cols_drop, inplace = True)\n",
    "display(azdias.head)"
   ]
  },
  {
   "cell_type": "markdown",
   "metadata": {},
   "source": [
    "#### Discussion 1.1.2: Assess Missing Data in Each Column\n",
    "\n",
    "Here the columns with miss percentage greater than a chosen threshold are dropped. In this notebook we choose the threshold to be 15%."
   ]
  },
  {
   "cell_type": "markdown",
   "metadata": {},
   "source": [
    "#### Step 1.1.3: Assess Missing Data in Each Row\n",
    "\n",
    "Now, you'll perform a similar assessment for the rows of the dataset. How much data is missing in each row? As with the columns, you should see some groups of points that have a very different numbers of missing values. Divide the data into two subsets: one for data points that are above some threshold for missing values, and a second subset for points below that threshold.\n",
    "\n",
    "In order to know what to do with the outlier rows, we should see if the distribution of data values on columns that are not missing data (or are missing very little data) are similar or different between the two groups. Select at least five of these columns and compare the distribution of values.\n",
    "- You can use seaborn's [`countplot()`](https://seaborn.pydata.org/generated/seaborn.countplot.html) function to create a bar chart of code frequencies and matplotlib's [`subplot()`](https://matplotlib.org/api/_as_gen/matplotlib.pyplot.subplot.html) function to put bar charts for the two subplots side by side.\n",
    "- To reduce repeated code, you might want to write a function that can perform this comparison, taking as one of its arguments a column to be compared.\n",
    "\n",
    "Depending on what you observe in your comparison, this will have implications on how you approach your conclusions later in the analysis. If the distributions of non-missing features look similar between the data with many missing values and the data with few or no missing values, then we could argue that simply dropping those points from the analysis won't present a major issue. On the other hand, if the data with many missing values looks very different from the data with few or no missing values, then we should make a note on those data as special. We'll revisit these data later on. **Either way, you should continue your analysis for now using just the subset of the data with few or no missing values.**"
   ]
  },
  {
   "cell_type": "code",
   "execution_count": 66,
   "metadata": {},
   "outputs": [],
   "source": [
    "# How much data is missing in each row of the dataset?\n",
    "\n"
   ]
  },
  {
   "cell_type": "code",
   "execution_count": 67,
   "metadata": {},
   "outputs": [],
   "source": [
    "# Write code to divide the data into two subsets based on the number of missing\n",
    "# values in each row.\n",
    "\n"
   ]
  },
  {
   "cell_type": "code",
   "execution_count": 68,
   "metadata": {},
   "outputs": [],
   "source": [
    "# Compare the distribution of values for at least five columns where there are\n",
    "# no or few missing values, between the two subsets.\n",
    "\n"
   ]
  },
  {
   "cell_type": "markdown",
   "metadata": {},
   "source": [
    "#### Discussion 1.1.3: Assess Missing Data in Each Row\n",
    "\n",
    "(Double-click this cell and replace this text with your own text, reporting your observations regarding missing data in rows. Are the data with lots of missing values are qualitatively different from data with few or no missing values?)"
   ]
  },
  {
   "cell_type": "markdown",
   "metadata": {},
   "source": [
    "### Step 1.2: Select and Re-Encode Features\n",
    "\n",
    "Checking for missing data isn't the only way in which you can prepare a dataset for analysis. Since the unsupervised learning techniques to be used will only work on data that is encoded numerically, you need to make a few encoding changes or additional assumptions to be able to make progress. In addition, while almost all of the values in the dataset are encoded using numbers, not all of them represent numeric values. Check the third column of the feature summary (`feat_info`) for a summary of types of measurement.\n",
    "- For numeric and interval data, these features can be kept without changes.\n",
    "- Most of the variables in the dataset are ordinal in nature. While ordinal values may technically be non-linear in spacing, make the simplifying assumption that the ordinal variables can be treated as being interval in nature (that is, kept without any changes).\n",
    "- Special handling may be necessary for the remaining two variable types: categorical, and 'mixed'.\n",
    "\n",
    "In the first two parts of this sub-step, you will perform an investigation of the categorical and mixed-type features and make a decision on each of them, whether you will keep, drop, or re-encode each. Then, in the last part, you will create a new data frame with only the selected and engineered columns.\n",
    "\n",
    "Data wrangling is often the trickiest part of the data analysis process, and there's a lot of it to be done here. But stick with it: once you're done with this step, you'll be ready to get to the machine learning parts of the project!"
   ]
  },
  {
   "cell_type": "code",
   "execution_count": 69,
   "metadata": {},
   "outputs": [],
   "source": [
    "# How many features are there of each data type?\n",
    "\n"
   ]
  },
  {
   "cell_type": "markdown",
   "metadata": {},
   "source": [
    "#### Step 1.2.1: Re-Encode Categorical Features\n",
    "\n",
    "For categorical data, you would ordinarily need to encode the levels as dummy variables. Depending on the number of categories, perform one of the following:\n",
    "- For binary (two-level) categoricals that take numeric values, you can keep them without needing to do anything.\n",
    "- There is one binary variable that takes on non-numeric values. For this one, you need to re-encode the values as numbers or create a dummy variable.\n",
    "- For multi-level categoricals (three or more values), you can choose to encode the values using multiple dummy variables (e.g. via [OneHotEncoder](http://scikit-learn.org/stable/modules/generated/sklearn.preprocessing.OneHotEncoder.html)), or (to keep things straightforward) just drop them from the analysis. As always, document your choices in the Discussion section."
   ]
  },
  {
   "cell_type": "code",
   "execution_count": 70,
   "metadata": {},
   "outputs": [],
   "source": [
    "# Assess categorical variables: which are binary, which are multi-level, and\n",
    "# which one needs to be re-encoded?\n",
    "\n"
   ]
  },
  {
   "cell_type": "code",
   "execution_count": 71,
   "metadata": {},
   "outputs": [],
   "source": [
    "# Re-encode categorical variable(s) to be kept in the analysis.\n",
    "\n"
   ]
  },
  {
   "cell_type": "markdown",
   "metadata": {},
   "source": [
    "#### Discussion 1.2.1: Re-Encode Categorical Features\n",
    "\n",
    "(Double-click this cell and replace this text with your own text, reporting your findings and decisions regarding categorical features. Which ones did you keep, which did you drop, and what engineering steps did you perform?)"
   ]
  },
  {
   "cell_type": "markdown",
   "metadata": {},
   "source": [
    "#### Step 1.2.2: Engineer Mixed-Type Features\n",
    "\n",
    "There are a handful of features that are marked as \"mixed\" in the feature summary that require special treatment in order to be included in the analysis. There are two in particular that deserve attention; the handling of the rest are up to your own choices:\n",
    "- \"PRAEGENDE_JUGENDJAHRE\" combines information on three dimensions: generation by decade, movement (mainstream vs. avantgarde), and nation (east vs. west). While there aren't enough levels to disentangle east from west, you should create two new variables to capture the other two dimensions: an interval-type variable for decade, and a binary variable for movement.\n",
    "- \"CAMEO_INTL_2015\" combines information on two axes: wealth and life stage. Break up the two-digit codes by their 'tens'-place and 'ones'-place digits into two new ordinal variables (which, for the purposes of this project, is equivalent to just treating them as their raw numeric values).\n",
    "- If you decide to keep or engineer new features around the other mixed-type features, make sure you note your steps in the Discussion section.\n",
    "\n",
    "Be sure to check `Data_Dictionary.md` for the details needed to finish these tasks."
   ]
  },
  {
   "cell_type": "code",
   "execution_count": 72,
   "metadata": {},
   "outputs": [],
   "source": [
    "# Investigate \"PRAEGENDE_JUGENDJAHRE\" and engineer two new variables.\n",
    "\n"
   ]
  },
  {
   "cell_type": "code",
   "execution_count": 73,
   "metadata": {},
   "outputs": [],
   "source": [
    "# Investigate \"CAMEO_INTL_2015\" and engineer two new variables.\n",
    "\n"
   ]
  },
  {
   "cell_type": "markdown",
   "metadata": {},
   "source": [
    "#### Discussion 1.2.2: Engineer Mixed-Type Features\n",
    "\n",
    "(Double-click this cell and replace this text with your own text, reporting your findings and decisions regarding mixed-value features. Which ones did you keep, which did you drop, and what engineering steps did you perform?)"
   ]
  },
  {
   "cell_type": "markdown",
   "metadata": {},
   "source": [
    "#### Step 1.2.3: Complete Feature Selection\n",
    "\n",
    "In order to finish this step up, you need to make sure that your data frame now only has the columns that you want to keep. To summarize, the dataframe should consist of the following:\n",
    "- All numeric, interval, and ordinal type columns from the original dataset.\n",
    "- Binary categorical features (all numerically-encoded).\n",
    "- Engineered features from other multi-level categorical features and mixed features.\n",
    "\n",
    "Make sure that for any new columns that you have engineered, that you've excluded the original columns from the final dataset. Otherwise, their values will interfere with the analysis later on the project. For example, you should not keep \"PRAEGENDE_JUGENDJAHRE\", since its values won't be useful for the algorithm: only the values derived from it in the engineered features you created should be retained. As a reminder, your data should only be from **the subset with few or no missing values**."
   ]
  },
  {
   "cell_type": "code",
   "execution_count": 74,
   "metadata": {},
   "outputs": [],
   "source": [
    "# If there are other re-engineering tasks you need to perform, make sure you\n",
    "# take care of them here. (Dealing with missing data will come in step 2.1.)\n",
    "\n"
   ]
  },
  {
   "cell_type": "code",
   "execution_count": 75,
   "metadata": {},
   "outputs": [],
   "source": [
    "# Do whatever you need to in order to ensure that the dataframe only contains\n",
    "# the columns that should be passed to the algorithm functions.\n",
    "\n"
   ]
  },
  {
   "cell_type": "markdown",
   "metadata": {},
   "source": [
    "### Step 1.3: Create a Cleaning Function\n",
    "\n",
    "Even though you've finished cleaning up the general population demographics data, it's important to look ahead to the future and realize that you'll need to perform the same cleaning steps on the customer demographics data. In this substep, complete the function below to execute the main feature selection, encoding, and re-engineering steps you performed above. Then, when it comes to looking at the customer data in Step 3, you can just run this function on that DataFrame to get the trimmed dataset in a single step."
   ]
  },
  {
   "cell_type": "code",
   "execution_count": 76,
   "metadata": {},
   "outputs": [],
   "source": [
    "def clean_data(df):\n",
    "    \"\"\"\n",
    "    Perform feature trimming, re-encoding, and engineering for demographics\n",
    "    data\n",
    "    \n",
    "    INPUT: Demographics DataFrame\n",
    "    OUTPUT: Trimmed and cleaned demographics DataFrame\n",
    "    \"\"\"\n",
    "    \n",
    "    # Put in code here to execute all main cleaning steps:\n",
    "    # convert missing value codes into NaNs, ...\n",
    "    \n",
    "    \n",
    "    # remove selected columns and rows, ...\n",
    "\n",
    "    \n",
    "    # select, re-encode, and engineer column values.\n",
    "\n",
    "    \n",
    "    # Return the cleaned dataframe.\n",
    "    \n",
    "    "
   ]
  },
  {
   "cell_type": "markdown",
   "metadata": {},
   "source": [
    "## Step 2: Feature Transformation\n",
    "\n",
    "### Step 2.1: Apply Feature Scaling\n",
    "\n",
    "Before we apply dimensionality reduction techniques to the data, we need to perform feature scaling so that the principal component vectors are not influenced by the natural differences in scale for features. Starting from this part of the project, you'll want to keep an eye on the [API reference page for sklearn](http://scikit-learn.org/stable/modules/classes.html) to help you navigate to all of the classes and functions that you'll need. In this substep, you'll need to check the following:\n",
    "\n",
    "- sklearn requires that data not have missing values in order for its estimators to work properly. So, before applying the scaler to your data, make sure that you've cleaned the DataFrame of the remaining missing values. This can be as simple as just removing all data points with missing data, or applying an [Imputer](http://scikit-learn.org/stable/modules/generated/sklearn.preprocessing.Imputer.html) to replace all missing values. You might also try a more complicated procedure where you temporarily remove missing values in order to compute the scaling parameters before re-introducing those missing values and applying imputation. Think about how much missing data you have and what possible effects each approach might have on your analysis, and justify your decision in the discussion section below.\n",
    "- For the actual scaling function, a [StandardScaler](http://scikit-learn.org/stable/modules/generated/sklearn.preprocessing.StandardScaler.html) instance is suggested, scaling each feature to mean 0 and standard deviation 1.\n",
    "- For these classes, you can make use of the `.fit_transform()` method to both fit a procedure to the data as well as apply the transformation to the data at the same time. Don't forget to keep the fit sklearn objects handy, since you'll be applying them to the customer demographics data towards the end of the project."
   ]
  },
  {
   "cell_type": "code",
   "execution_count": 77,
   "metadata": {},
   "outputs": [],
   "source": [
    "# If you've not yet cleaned the dataset of all NaN values, then investigate and\n",
    "# do that now.\n",
    "\n"
   ]
  },
  {
   "cell_type": "code",
   "execution_count": 78,
   "metadata": {},
   "outputs": [],
   "source": [
    "# Apply feature scaling to the general population demographics data.\n",
    "\n"
   ]
  },
  {
   "cell_type": "markdown",
   "metadata": {},
   "source": [
    "### Discussion 2.1: Apply Feature Scaling\n",
    "\n",
    "(Double-click this cell and replace this text with your own text, reporting your decisions regarding feature scaling.)"
   ]
  },
  {
   "cell_type": "markdown",
   "metadata": {},
   "source": [
    "### Step 2.2: Perform Dimensionality Reduction\n",
    "\n",
    "On your scaled data, you are now ready to apply dimensionality reduction techniques.\n",
    "\n",
    "- Use sklearn's [PCA](http://scikit-learn.org/stable/modules/generated/sklearn.decomposition.PCA.html) class to apply principal component analysis on the data, thus finding the vectors of maximal variance in the data. To start, you should not set any parameters (so all components are computed) or set a number of components that is at least half the number of features (so there's enough features to see the general trend in variability).\n",
    "- Check out the ratio of variance explained by each principal component as well as the cumulative variance explained. Try plotting the cumulative or sequential values using matplotlib's [`plot()`](https://matplotlib.org/api/_as_gen/matplotlib.pyplot.plot.html) function. Based on what you find, select a value for the number of transformed features you'll retain for the clustering part of the project.\n",
    "- Once you've made a choice for the number of components to keep, make sure you re-fit a PCA instance to perform the decided-on transformation."
   ]
  },
  {
   "cell_type": "code",
   "execution_count": 79,
   "metadata": {},
   "outputs": [],
   "source": [
    "# Apply PCA to the data.\n",
    "\n"
   ]
  },
  {
   "cell_type": "code",
   "execution_count": 80,
   "metadata": {},
   "outputs": [],
   "source": [
    "# Investigate the variance accounted for by each principal component.\n",
    "\n"
   ]
  },
  {
   "cell_type": "code",
   "execution_count": 81,
   "metadata": {},
   "outputs": [],
   "source": [
    "# Re-apply PCA to the data while selecting for number of components to retain.\n",
    "\n"
   ]
  },
  {
   "cell_type": "markdown",
   "metadata": {},
   "source": [
    "### Discussion 2.2: Perform Dimensionality Reduction\n",
    "\n",
    "(Double-click this cell and replace this text with your own text, reporting your findings and decisions regarding dimensionality reduction. How many principal components / transformed features are you retaining for the next step of the analysis?)"
   ]
  },
  {
   "cell_type": "markdown",
   "metadata": {},
   "source": [
    "### Step 2.3: Interpret Principal Components\n",
    "\n",
    "Now that we have our transformed principal components, it's a nice idea to check out the weight of each variable on the first few components to see if they can be interpreted in some fashion.\n",
    "\n",
    "As a reminder, each principal component is a unit vector that points in the direction of highest variance (after accounting for the variance captured by earlier principal components). The further a weight is from zero, the more the principal component is in the direction of the corresponding feature. If two features have large weights of the same sign (both positive or both negative), then increases in one tend expect to be associated with increases in the other. To contrast, features with different signs can be expected to show a negative correlation: increases in one variable should result in a decrease in the other.\n",
    "\n",
    "- To investigate the features, you should map each weight to their corresponding feature name, then sort the features according to weight. The most interesting features for each principal component, then, will be those at the beginning and end of the sorted list. Use the data dictionary document to help you understand these most prominent features, their relationships, and what a positive or negative value on the principal component might indicate.\n",
    "- You should investigate and interpret feature associations from the first three principal components in this substep. To help facilitate this, you should write a function that you can call at any time to print the sorted list of feature weights, for the *i*-th principal component. This might come in handy in the next step of the project, when you interpret the tendencies of the discovered clusters."
   ]
  },
  {
   "cell_type": "code",
   "execution_count": 82,
   "metadata": {},
   "outputs": [],
   "source": [
    "# Map weights for the first principal component to corresponding feature names\n",
    "# and then print the linked values, sorted by weight.\n",
    "# HINT: Try defining a function here or in a new cell that you can reuse in the\n",
    "# other cells.\n",
    "\n"
   ]
  },
  {
   "cell_type": "code",
   "execution_count": 83,
   "metadata": {},
   "outputs": [],
   "source": [
    "# Map weights for the second principal component to corresponding feature names\n",
    "# and then print the linked values, sorted by weight.\n",
    "\n"
   ]
  },
  {
   "cell_type": "code",
   "execution_count": 84,
   "metadata": {},
   "outputs": [],
   "source": [
    "# Map weights for the third principal component to corresponding feature names\n",
    "# and then print the linked values, sorted by weight.\n",
    "\n"
   ]
  },
  {
   "cell_type": "markdown",
   "metadata": {},
   "source": [
    "### Discussion 2.3: Interpret Principal Components\n",
    "\n",
    "(Double-click this cell and replace this text with your own text, reporting your observations from detailed investigation of the first few principal components generated. Can we interpret positive and negative values from them in a meaningful way?)"
   ]
  },
  {
   "cell_type": "markdown",
   "metadata": {},
   "source": [
    "## Step 3: Clustering\n",
    "\n",
    "### Step 3.1: Apply Clustering to General Population\n",
    "\n",
    "You've assessed and cleaned the demographics data, then scaled and transformed them. Now, it's time to see how the data clusters in the principal components space. In this substep, you will apply k-means clustering to the dataset and use the average within-cluster distances from each point to their assigned cluster's centroid to decide on a number of clusters to keep.\n",
    "\n",
    "- Use sklearn's [KMeans](http://scikit-learn.org/stable/modules/generated/sklearn.cluster.KMeans.html#sklearn.cluster.KMeans) class to perform k-means clustering on the PCA-transformed data.\n",
    "- Then, compute the average difference from each point to its assigned cluster's center. **Hint**: The KMeans object's `.score()` method might be useful here, but note that in sklearn, scores tend to be defined so that larger is better. Try applying it to a small, toy dataset, or use an internet search to help your understanding.\n",
    "- Perform the above two steps for a number of different cluster counts. You can then see how the average distance decreases with an increasing number of clusters. However, each additional cluster provides a smaller net benefit. Use this fact to select a final number of clusters in which to group the data. **Warning**: because of the large size of the dataset, it can take a long time for the algorithm to resolve. The more clusters to fit, the longer the algorithm will take. You should test for cluster counts through at least 10 clusters to get the full picture, but you shouldn't need to test for a number of clusters above about 30.\n",
    "- Once you've selected a final number of clusters to use, re-fit a KMeans instance to perform the clustering operation. Make sure that you also obtain the cluster assignments for the general demographics data, since you'll be using them in the final Step 3.3."
   ]
  },
  {
   "cell_type": "code",
   "execution_count": 85,
   "metadata": {},
   "outputs": [],
   "source": [
    "# Over a number of different cluster counts...\n",
    "\n",
    "\n",
    "    # run k-means clustering on the data and...\n",
    "    \n",
    "    \n",
    "    # compute the average within-cluster distances.\n",
    "    \n",
    "    "
   ]
  },
  {
   "cell_type": "code",
   "execution_count": 86,
   "metadata": {},
   "outputs": [],
   "source": [
    "# Investigate the change in within-cluster distance across number of clusters.\n",
    "# HINT: Use matplotlib's plot function to visualize this relationship.\n",
    "\n"
   ]
  },
  {
   "cell_type": "code",
   "execution_count": 87,
   "metadata": {},
   "outputs": [],
   "source": [
    "# Re-fit the k-means model with the selected number of clusters and obtain\n",
    "# cluster predictions for the general population demographics data.\n",
    "\n"
   ]
  },
  {
   "cell_type": "markdown",
   "metadata": {},
   "source": [
    "### Discussion 3.1: Apply Clustering to General Population\n",
    "\n",
    "(Double-click this cell and replace this text with your own text, reporting your findings and decisions regarding clustering. Into how many clusters have you decided to segment the population?)"
   ]
  },
  {
   "cell_type": "markdown",
   "metadata": {},
   "source": [
    "### Step 3.2: Apply All Steps to the Customer Data\n",
    "\n",
    "Now that you have clusters and cluster centers for the general population, it's time to see how the customer data maps on to those clusters. Take care to not confuse this for re-fitting all of the models to the customer data. Instead, you're going to use the fits from the general population to clean, transform, and cluster the customer data. In the last step of the project, you will interpret how the general population fits apply to the customer data.\n",
    "\n",
    "- Don't forget when loading in the customers data, that it is semicolon (`;`) delimited.\n",
    "- Apply the same feature wrangling, selection, and engineering steps to the customer demographics using the `clean_data()` function you created earlier. (You can assume that the customer demographics data has similar meaning behind missing data patterns as the general demographics data.)\n",
    "- Use the sklearn objects from the general demographics data, and apply their transformations to the customers data. That is, you should not be using a `.fit()` or `.fit_transform()` method to re-fit the old objects, nor should you be creating new sklearn objects! Carry the data through the feature scaling, PCA, and clustering steps, obtaining cluster assignments for all of the data in the customer demographics data."
   ]
  },
  {
   "cell_type": "code",
   "execution_count": 88,
   "metadata": {},
   "outputs": [
    {
     "output_type": "error",
     "ename": "SyntaxError",
     "evalue": "invalid syntax (<ipython-input-88-416d584d1460>, line 2)",
     "traceback": [
      "\u001b[1;36m  File \u001b[1;32m\"<ipython-input-88-416d584d1460>\"\u001b[1;36m, line \u001b[1;32m2\u001b[0m\n\u001b[1;33m    customers =\u001b[0m\n\u001b[1;37m                ^\u001b[0m\n\u001b[1;31mSyntaxError\u001b[0m\u001b[1;31m:\u001b[0m invalid syntax\n"
     ]
    }
   ],
   "source": [
    "# Load in the customer demographics data.\n",
    "customers = "
   ]
  },
  {
   "cell_type": "code",
   "execution_count": null,
   "metadata": {},
   "outputs": [],
   "source": [
    "# Apply preprocessing, feature transformation, and clustering from the general\n",
    "# demographics onto the customer data, obtaining cluster predictions for the\n",
    "# customer demographics data.\n",
    "\n"
   ]
  },
  {
   "cell_type": "markdown",
   "metadata": {},
   "source": [
    "### Step 3.3: Compare Customer Data to Demographics Data\n",
    "\n",
    "At this point, you have clustered data based on demographics of the general population of Germany, and seen how the customer data for a mail-order sales company maps onto those demographic clusters. In this final substep, you will compare the two cluster distributions to see where the strongest customer base for the company is.\n",
    "\n",
    "Consider the proportion of persons in each cluster for the general population, and the proportions for the customers. If we think the company's customer base to be universal, then the cluster assignment proportions should be fairly similar between the two. If there are only particular segments of the population that are interested in the company's products, then we should see a mismatch from one to the other. If there is a higher proportion of persons in a cluster for the customer data compared to the general population (e.g. 5% of persons are assigned to a cluster for the general population, but 15% of the customer data is closest to that cluster's centroid) then that suggests the people in that cluster to be a target audience for the company. On the other hand, the proportion of the data in a cluster being larger in the general population than the customer data (e.g. only 2% of customers closest to a population centroid that captures 6% of the data) suggests that group of persons to be outside of the target demographics.\n",
    "\n",
    "Take a look at the following points in this step:\n",
    "\n",
    "- Compute the proportion of data points in each cluster for the general population and the customer data. Visualizations will be useful here: both for the individual dataset proportions, but also to visualize the ratios in cluster representation between groups. Seaborn's [`countplot()`](https://seaborn.pydata.org/generated/seaborn.countplot.html) or [`barplot()`](https://seaborn.pydata.org/generated/seaborn.barplot.html) function could be handy.\n",
    "  - Recall the analysis you performed in step 1.1.3 of the project, where you separated out certain data points from the dataset if they had more than a specified threshold of missing values. If you found that this group was qualitatively different from the main bulk of the data, you should treat this as an additional data cluster in this analysis. Make sure that you account for the number of data points in this subset, for both the general population and customer datasets, when making your computations!\n",
    "- Which cluster or clusters are overrepresented in the customer dataset compared to the general population? Select at least one such cluster and infer what kind of people might be represented by that cluster. Use the principal component interpretations from step 2.3 or look at additional components to help you make this inference. Alternatively, you can use the `.inverse_transform()` method of the PCA and StandardScaler objects to transform centroids back to the original data space and interpret the retrieved values directly.\n",
    "- Perform a similar investigation for the underrepresented clusters. Which cluster or clusters are underrepresented in the customer dataset compared to the general population, and what kinds of people are typified by these clusters?"
   ]
  },
  {
   "cell_type": "code",
   "execution_count": null,
   "metadata": {},
   "outputs": [],
   "source": [
    "# Compare the proportion of data in each cluster for the customer data to the\n",
    "# proportion of data in each cluster for the general population.\n",
    "\n"
   ]
  },
  {
   "cell_type": "code",
   "execution_count": null,
   "metadata": {},
   "outputs": [],
   "source": [
    "# What kinds of people are part of a cluster that is overrepresented in the\n",
    "# customer data compared to the general population?\n",
    "\n"
   ]
  },
  {
   "cell_type": "code",
   "execution_count": null,
   "metadata": {},
   "outputs": [],
   "source": [
    "# What kinds of people are part of a cluster that is underrepresented in the\n",
    "# customer data compared to the general population?\n",
    "\n"
   ]
  },
  {
   "cell_type": "markdown",
   "metadata": {},
   "source": [
    "### Discussion 3.3: Compare Customer Data to Demographics Data\n",
    "\n",
    "(Double-click this cell and replace this text with your own text, reporting findings and conclusions from the clustering analysis. Can we describe segments of the population that are relatively popular with the mail-order company, or relatively unpopular with the company?)"
   ]
  },
  {
   "cell_type": "markdown",
   "metadata": {},
   "source": [
    "> Congratulations on making it this far in the project! Before you finish, make sure to check through the entire notebook from top to bottom to make sure that your analysis follows a logical flow and all of your findings are documented in **Discussion** cells. Once you've checked over all of your work, you should export the notebook as an HTML document to submit for evaluation. You can do this from the menu, navigating to **File -> Download as -> HTML (.html)**. You will submit both that document and this notebook for your project submission."
   ]
  },
  {
   "cell_type": "code",
   "execution_count": null,
   "metadata": {},
   "outputs": [],
   "source": []
  }
 ],
 "metadata": {
  "kernelspec": {
   "display_name": "Python 3",
   "language": "python",
   "name": "python3"
  },
  "language_info": {
   "codemirror_mode": {
    "name": "ipython",
    "version": 3
   },
   "file_extension": ".py",
   "mimetype": "text/x-python",
   "name": "python",
   "nbconvert_exporter": "python",
   "pygments_lexer": "ipython3",
   "version": "3.7.9-final"
  }
 },
 "nbformat": 4,
 "nbformat_minor": 2
}